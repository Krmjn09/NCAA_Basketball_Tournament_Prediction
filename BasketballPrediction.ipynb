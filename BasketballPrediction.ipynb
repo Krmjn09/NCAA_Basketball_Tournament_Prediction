{
 "cells": [
  {
   "cell_type": "code",
   "execution_count": 76,
   "id": "1643db49",
   "metadata": {
    "_cell_guid": "b1076dfc-b9ad-4769-8c92-a6c4dae69d19",
    "_uuid": "8f2839f25d086af736a60e9eeb907d3b93b6e0e5",
    "execution": {
     "iopub.execute_input": "2022-02-25T19:24:43.394282Z",
     "iopub.status.busy": "2022-02-25T19:24:43.393495Z",
     "iopub.status.idle": "2022-02-25T19:24:44.574898Z",
     "shell.execute_reply": "2022-02-25T19:24:44.575429Z",
     "shell.execute_reply.started": "2022-02-25T19:15:59.307763Z"
    },
    "papermill": {
     "duration": 1.277111,
     "end_time": "2022-02-25T19:24:44.575737",
     "exception": false,
     "start_time": "2022-02-25T19:24:43.298626",
     "status": "completed"
    },
    "tags": []
   },
   "outputs": [],
   "source": [
    "import os\n",
    "import re\n",
    "import sklearn\n",
    "import numpy as np \n",
    "import pandas as pd\n",
    "import seaborn as sns\n",
    "import matplotlib.pyplot as plt\n",
    "\n",
    "from collections import Counter\n",
    "from sklearn.metrics import *\n",
    "from sklearn.linear_model import *\n",
    "from sklearn.model_selection import *\n",
    "\n",
    "pd.set_option('display.max_columns', None)"
   ]
  },
  {
   "cell_type": "code",
   "execution_count": 77,
   "id": "8b8bfbbb",
   "metadata": {
    "execution": {
     "iopub.execute_input": "2022-02-25T19:24:44.729776Z",
     "iopub.status.busy": "2022-02-25T19:24:44.729007Z",
     "iopub.status.idle": "2022-02-25T19:24:44.740785Z",
     "shell.execute_reply": "2022-02-25T19:24:44.740235Z",
     "shell.execute_reply.started": "2022-02-25T19:16:00.838744Z"
    },
    "papermill": {
     "duration": 0.090265,
     "end_time": "2022-02-25T19:24:44.740927",
     "exception": false,
     "start_time": "2022-02-25T19:24:44.650662",
     "status": "completed"
    },
    "tags": []
   },
   "outputs": [
    {
     "name": "stdout",
     "output_type": "stream",
     "text": [
      "Cities.csv\n",
      "Conferences.csv\n",
      "MConferenceTourneyGames.csv\n",
      "MGameCities.csv\n",
      "MMasseyOrdinals.csv\n",
      "MNCAATourneyCompactResults.csv\n",
      "MNCAATourneyDetailedResults.csv\n",
      "MNCAATourneySeedRoundSlots.csv\n",
      "MNCAATourneySeeds.csv\n",
      "MNCAATourneySlots.csv\n",
      "MRegularSeasonCompactResults.csv\n",
      "MRegularSeasonDetailedResults.csv\n",
      "MSampleSubmissionStage1.csv\n",
      "MSeasons.csv\n",
      "MSecondaryTourneyCompactResults.csv\n",
      "MSecondaryTourneyTeams.csv\n",
      "MTeamCoaches.csv\n",
      "MTeamConferences.csv\n",
      "MTeams.csv\n",
      "MTeamSpellings.csv\n"
     ]
    }
   ],
   "source": [
    "DATA_PATH = './MDataFiles_Stage1/'\n",
    "\n",
    "for filename in os.listdir(DATA_PATH):\n",
    "    print(filename)"
   ]
  },
  {
   "cell_type": "markdown",
   "id": "d2f68942",
   "metadata": {
    "papermill": {
     "duration": 0.073341,
     "end_time": "2022-02-25T19:24:44.888269",
     "exception": false,
     "start_time": "2022-02-25T19:24:44.814928",
     "status": "completed"
    },
    "tags": []
   },
   "source": [
    "# Data preparation"
   ]
  },
  {
   "cell_type": "markdown",
   "id": "d48fdeef",
   "metadata": {
    "papermill": {
     "duration": 0.074768,
     "end_time": "2022-02-25T19:24:45.038561",
     "exception": false,
     "start_time": "2022-02-25T19:24:44.963793",
     "status": "completed"
    },
    "tags": []
   },
   "source": [
    "## Seeds\n",
    "> This file identifies the seeds for all teams in each NCAA® tournament, for all seasons of historical data. Thus, there are between 64-68 rows for each year, depending on whether there were any play-in games and how many there were. In recent years the structure has settled at 68 total teams, with four \"play-in\" games leading to the final field of 64 teams entering Round 1 on Thursday of the first week (by definition, that is DayNum=136 each season). We will not know the seeds of the respective tournament teams, or even exactly which 68 teams it will be, until Selection Sunday on March 15, 2020 (DayNum=132).\n",
    "\n",
    "> The seed is a 3/4-character :\n",
    "- First character : Region (W, X, Y, or Z)\n",
    "- Next two digits : Seed within the region (01 to 16)\n",
    "- Last character (optional): Distinguishes teams between play-ins ( a or b)"
   ]
  },
  {
   "cell_type": "code",
   "execution_count": 78,
   "id": "d7558401",
   "metadata": {
    "execution": {
     "iopub.execute_input": "2022-02-25T19:24:45.192865Z",
     "iopub.status.busy": "2022-02-25T19:24:45.192189Z",
     "iopub.status.idle": "2022-02-25T19:24:45.217305Z",
     "shell.execute_reply": "2022-02-25T19:24:45.217807Z",
     "shell.execute_reply.started": "2022-02-25T19:16:00.853887Z"
    },
    "papermill": {
     "duration": 0.104892,
     "end_time": "2022-02-25T19:24:45.217994",
     "exception": false,
     "start_time": "2022-02-25T19:24:45.113102",
     "status": "completed"
    },
    "tags": []
   },
   "outputs": [
    {
     "data": {
      "text/html": [
       "<div>\n",
       "<style scoped>\n",
       "    .dataframe tbody tr th:only-of-type {\n",
       "        vertical-align: middle;\n",
       "    }\n",
       "\n",
       "    .dataframe tbody tr th {\n",
       "        vertical-align: top;\n",
       "    }\n",
       "\n",
       "    .dataframe thead th {\n",
       "        text-align: right;\n",
       "    }\n",
       "</style>\n",
       "<table border=\"1\" class=\"dataframe\">\n",
       "  <thead>\n",
       "    <tr style=\"text-align: right;\">\n",
       "      <th></th>\n",
       "      <th>Season</th>\n",
       "      <th>Seed</th>\n",
       "      <th>TeamID</th>\n",
       "    </tr>\n",
       "  </thead>\n",
       "  <tbody>\n",
       "    <tr>\n",
       "      <th>0</th>\n",
       "      <td>1985</td>\n",
       "      <td>W01</td>\n",
       "      <td>1207</td>\n",
       "    </tr>\n",
       "    <tr>\n",
       "      <th>1</th>\n",
       "      <td>1985</td>\n",
       "      <td>W02</td>\n",
       "      <td>1210</td>\n",
       "    </tr>\n",
       "    <tr>\n",
       "      <th>2</th>\n",
       "      <td>1985</td>\n",
       "      <td>W03</td>\n",
       "      <td>1228</td>\n",
       "    </tr>\n",
       "    <tr>\n",
       "      <th>3</th>\n",
       "      <td>1985</td>\n",
       "      <td>W04</td>\n",
       "      <td>1260</td>\n",
       "    </tr>\n",
       "    <tr>\n",
       "      <th>4</th>\n",
       "      <td>1985</td>\n",
       "      <td>W05</td>\n",
       "      <td>1374</td>\n",
       "    </tr>\n",
       "  </tbody>\n",
       "</table>\n",
       "</div>"
      ],
      "text/plain": [
       "   Season Seed  TeamID\n",
       "0    1985  W01    1207\n",
       "1    1985  W02    1210\n",
       "2    1985  W03    1228\n",
       "3    1985  W04    1260\n",
       "4    1985  W05    1374"
      ]
     },
     "execution_count": 78,
     "metadata": {},
     "output_type": "execute_result"
    }
   ],
   "source": [
    "df_seeds = pd.read_csv(DATA_PATH + \"MNCAATourneySeeds.csv\")\n",
    "df_seeds.head()"
   ]
  },
  {
   "cell_type": "markdown",
   "id": "bdb95ad3",
   "metadata": {
    "papermill": {
     "duration": 0.077208,
     "end_time": "2022-02-25T19:24:45.370539",
     "exception": false,
     "start_time": "2022-02-25T19:24:45.293331",
     "status": "completed"
    },
    "tags": []
   },
   "source": [
    "## Season results\n",
    "> This file identifies the game-by-game results for many seasons of historical data, starting with the 1985 season (the first year the NCAA® had a 64-team tournament). For each season, the file includes all games played from DayNum 0 through 132. It is important to realize that the \"Regular Season\" games are simply defined to be all games played on DayNum=132 or earlier (DayNum=132 is Selection Sunday, and there are always a few conference tournament finals actually played early in the day on Selection Sunday itself). Thus a game played on or before Selection Sunday will show up here whether it was a pre-season tournament, a non-conference game, a regular conference game, a conference tournament game, or whatever."
   ]
  },
  {
   "cell_type": "code",
   "execution_count": 79,
   "id": "984534e1",
   "metadata": {
    "execution": {
     "iopub.execute_input": "2022-02-25T19:24:45.528535Z",
     "iopub.status.busy": "2022-02-25T19:24:45.527728Z",
     "iopub.status.idle": "2022-02-25T19:24:45.703087Z",
     "shell.execute_reply": "2022-02-25T19:24:45.703632Z",
     "shell.execute_reply.started": "2022-02-25T19:16:00.891643Z"
    },
    "papermill": {
     "duration": 0.25674,
     "end_time": "2022-02-25T19:24:45.703808",
     "exception": false,
     "start_time": "2022-02-25T19:24:45.447068",
     "status": "completed"
    },
    "tags": []
   },
   "outputs": [],
   "source": [
    "df_season_results = pd.read_csv(DATA_PATH + \"MRegularSeasonCompactResults.csv\")\n",
    "df_season_results.drop(['NumOT', 'WLoc'], axis=1, inplace=True)"
   ]
  },
  {
   "cell_type": "code",
   "execution_count": 80,
   "id": "c796aca3",
   "metadata": {
    "execution": {
     "iopub.execute_input": "2022-02-25T19:24:45.859259Z",
     "iopub.status.busy": "2022-02-25T19:24:45.858311Z",
     "iopub.status.idle": "2022-02-25T19:24:45.866768Z",
     "shell.execute_reply": "2022-02-25T19:24:45.867356Z",
     "shell.execute_reply.started": "2022-02-25T19:16:01.142382Z"
    },
    "papermill": {
     "duration": 0.087908,
     "end_time": "2022-02-25T19:24:45.867516",
     "exception": false,
     "start_time": "2022-02-25T19:24:45.779608",
     "status": "completed"
    },
    "tags": []
   },
   "outputs": [],
   "source": [
    "df_season_results['ScoreGap'] = df_season_results['WScore'] - df_season_results['LScore']"
   ]
  },
  {
   "cell_type": "code",
   "execution_count": 81,
   "id": "049689b7",
   "metadata": {
    "execution": {
     "iopub.execute_input": "2022-02-25T19:24:46.026815Z",
     "iopub.status.busy": "2022-02-25T19:24:46.026218Z",
     "iopub.status.idle": "2022-02-25T19:24:46.029145Z",
     "shell.execute_reply": "2022-02-25T19:24:46.029664Z",
     "shell.execute_reply.started": "2022-02-25T19:16:01.156310Z"
    },
    "papermill": {
     "duration": 0.08798,
     "end_time": "2022-02-25T19:24:46.029839",
     "exception": false,
     "start_time": "2022-02-25T19:24:45.941859",
     "status": "completed"
    },
    "tags": []
   },
   "outputs": [
    {
     "data": {
      "text/html": [
       "<div>\n",
       "<style scoped>\n",
       "    .dataframe tbody tr th:only-of-type {\n",
       "        vertical-align: middle;\n",
       "    }\n",
       "\n",
       "    .dataframe tbody tr th {\n",
       "        vertical-align: top;\n",
       "    }\n",
       "\n",
       "    .dataframe thead th {\n",
       "        text-align: right;\n",
       "    }\n",
       "</style>\n",
       "<table border=\"1\" class=\"dataframe\">\n",
       "  <thead>\n",
       "    <tr style=\"text-align: right;\">\n",
       "      <th></th>\n",
       "      <th>Season</th>\n",
       "      <th>DayNum</th>\n",
       "      <th>WTeamID</th>\n",
       "      <th>WScore</th>\n",
       "      <th>LTeamID</th>\n",
       "      <th>LScore</th>\n",
       "      <th>ScoreGap</th>\n",
       "    </tr>\n",
       "  </thead>\n",
       "  <tbody>\n",
       "    <tr>\n",
       "      <th>0</th>\n",
       "      <td>1985</td>\n",
       "      <td>20</td>\n",
       "      <td>1228</td>\n",
       "      <td>81</td>\n",
       "      <td>1328</td>\n",
       "      <td>64</td>\n",
       "      <td>17</td>\n",
       "    </tr>\n",
       "    <tr>\n",
       "      <th>1</th>\n",
       "      <td>1985</td>\n",
       "      <td>25</td>\n",
       "      <td>1106</td>\n",
       "      <td>77</td>\n",
       "      <td>1354</td>\n",
       "      <td>70</td>\n",
       "      <td>7</td>\n",
       "    </tr>\n",
       "    <tr>\n",
       "      <th>2</th>\n",
       "      <td>1985</td>\n",
       "      <td>25</td>\n",
       "      <td>1112</td>\n",
       "      <td>63</td>\n",
       "      <td>1223</td>\n",
       "      <td>56</td>\n",
       "      <td>7</td>\n",
       "    </tr>\n",
       "    <tr>\n",
       "      <th>3</th>\n",
       "      <td>1985</td>\n",
       "      <td>25</td>\n",
       "      <td>1165</td>\n",
       "      <td>70</td>\n",
       "      <td>1432</td>\n",
       "      <td>54</td>\n",
       "      <td>16</td>\n",
       "    </tr>\n",
       "    <tr>\n",
       "      <th>4</th>\n",
       "      <td>1985</td>\n",
       "      <td>25</td>\n",
       "      <td>1192</td>\n",
       "      <td>86</td>\n",
       "      <td>1447</td>\n",
       "      <td>74</td>\n",
       "      <td>12</td>\n",
       "    </tr>\n",
       "  </tbody>\n",
       "</table>\n",
       "</div>"
      ],
      "text/plain": [
       "   Season  DayNum  WTeamID  WScore  LTeamID  LScore  ScoreGap\n",
       "0    1985      20     1228      81     1328      64        17\n",
       "1    1985      25     1106      77     1354      70         7\n",
       "2    1985      25     1112      63     1223      56         7\n",
       "3    1985      25     1165      70     1432      54        16\n",
       "4    1985      25     1192      86     1447      74        12"
      ]
     },
     "execution_count": 81,
     "metadata": {},
     "output_type": "execute_result"
    }
   ],
   "source": [
    "df_season_results.head()"
   ]
  },
  {
   "cell_type": "markdown",
   "id": "97f2fd35",
   "metadata": {
    "papermill": {
     "duration": 0.07755,
     "end_time": "2022-02-25T19:24:46.185615",
     "exception": false,
     "start_time": "2022-02-25T19:24:46.108065",
     "status": "completed"
    },
    "tags": []
   },
   "source": [
    "### Features \n",
    "For each team at each season, I compute : \n",
    "- Number of wins\n",
    "- Number of losses\n",
    "- Average score gap of wins\n",
    "- Average score gap of losses\n",
    "\n",
    "And use the following features : \n",
    "- Win Ratio\n",
    "- Average score gap"
   ]
  },
  {
   "cell_type": "code",
   "execution_count": 82,
   "id": "35b3aaec",
   "metadata": {
    "execution": {
     "iopub.execute_input": "2022-02-25T19:24:46.347520Z",
     "iopub.status.busy": "2022-02-25T19:24:46.346732Z",
     "iopub.status.idle": "2022-02-25T19:24:46.382706Z",
     "shell.execute_reply": "2022-02-25T19:24:46.382053Z",
     "shell.execute_reply.started": "2022-02-25T19:16:01.176146Z"
    },
    "papermill": {
     "duration": 0.119523,
     "end_time": "2022-02-25T19:24:46.382846",
     "exception": false,
     "start_time": "2022-02-25T19:24:46.263323",
     "status": "completed"
    },
    "tags": []
   },
   "outputs": [],
   "source": [
    "num_win = df_season_results.groupby(['Season', 'WTeamID']).count()\n",
    "num_win = num_win.reset_index()[['Season', 'WTeamID', 'DayNum']].rename(columns={\"DayNum\": \"NumWins\", \"WTeamID\": \"TeamID\"})"
   ]
  },
  {
   "cell_type": "code",
   "execution_count": 83,
   "id": "d28673a0",
   "metadata": {
    "execution": {
     "iopub.execute_input": "2022-02-25T19:24:46.546593Z",
     "iopub.status.busy": "2022-02-25T19:24:46.545980Z",
     "iopub.status.idle": "2022-02-25T19:24:46.563877Z",
     "shell.execute_reply": "2022-02-25T19:24:46.563323Z",
     "shell.execute_reply.started": "2022-02-25T19:16:01.232846Z"
    },
    "papermill": {
     "duration": 0.102402,
     "end_time": "2022-02-25T19:24:46.564033",
     "exception": false,
     "start_time": "2022-02-25T19:24:46.461631",
     "status": "completed"
    },
    "tags": []
   },
   "outputs": [],
   "source": [
    "num_loss = df_season_results.groupby(['Season', 'LTeamID']).count()\n",
    "num_loss = num_loss.reset_index()[['Season', 'LTeamID', 'DayNum']].rename(columns={\"DayNum\": \"NumLosses\", \"LTeamID\": \"TeamID\"})"
   ]
  },
  {
   "cell_type": "code",
   "execution_count": 84,
   "id": "580d52d5",
   "metadata": {
    "execution": {
     "iopub.execute_input": "2022-02-25T19:24:46.726507Z",
     "iopub.status.busy": "2022-02-25T19:24:46.725853Z",
     "iopub.status.idle": "2022-02-25T19:24:46.749204Z",
     "shell.execute_reply": "2022-02-25T19:24:46.748564Z",
     "shell.execute_reply.started": "2022-02-25T19:16:01.264421Z"
    },
    "papermill": {
     "duration": 0.10874,
     "end_time": "2022-02-25T19:24:46.749384",
     "exception": false,
     "start_time": "2022-02-25T19:24:46.640644",
     "status": "completed"
    },
    "tags": []
   },
   "outputs": [],
   "source": [
    "gap_win = df_season_results.groupby(['Season', 'WTeamID']).mean().reset_index()\n",
    "gap_win = gap_win[['Season', 'WTeamID', 'ScoreGap']].rename(columns={\"ScoreGap\": \"GapWins\", \"WTeamID\": \"TeamID\"})"
   ]
  },
  {
   "cell_type": "code",
   "execution_count": 85,
   "id": "7b4dcfcc",
   "metadata": {
    "execution": {
     "iopub.execute_input": "2022-02-25T19:24:46.908673Z",
     "iopub.status.busy": "2022-02-25T19:24:46.908014Z",
     "iopub.status.idle": "2022-02-25T19:24:46.929198Z",
     "shell.execute_reply": "2022-02-25T19:24:46.928604Z",
     "shell.execute_reply.started": "2022-02-25T19:16:01.301328Z"
    },
    "papermill": {
     "duration": 0.104447,
     "end_time": "2022-02-25T19:24:46.929350",
     "exception": false,
     "start_time": "2022-02-25T19:24:46.824903",
     "status": "completed"
    },
    "tags": []
   },
   "outputs": [],
   "source": [
    "gap_loss = df_season_results.groupby(['Season', 'LTeamID']).mean().reset_index()\n",
    "gap_loss = gap_loss[['Season', 'LTeamID', 'ScoreGap']].rename(columns={\"ScoreGap\": \"GapLosses\", \"LTeamID\": \"TeamID\"})"
   ]
  },
  {
   "cell_type": "markdown",
   "id": "aef120a1",
   "metadata": {
    "papermill": {
     "duration": 0.076173,
     "end_time": "2022-02-25T19:24:47.082821",
     "exception": false,
     "start_time": "2022-02-25T19:24:47.006648",
     "status": "completed"
    },
    "tags": []
   },
   "source": [
    "Merge"
   ]
  },
  {
   "cell_type": "code",
   "execution_count": 86,
   "id": "8dd01525",
   "metadata": {
    "execution": {
     "iopub.execute_input": "2022-02-25T19:24:47.242141Z",
     "iopub.status.busy": "2022-02-25T19:24:47.241490Z",
     "iopub.status.idle": "2022-02-25T19:24:47.274455Z",
     "shell.execute_reply": "2022-02-25T19:24:47.273774Z",
     "shell.execute_reply.started": "2022-02-25T19:16:01.337728Z"
    },
    "papermill": {
     "duration": 0.115032,
     "end_time": "2022-02-25T19:24:47.274624",
     "exception": false,
     "start_time": "2022-02-25T19:24:47.159592",
     "status": "completed"
    },
    "tags": []
   },
   "outputs": [],
   "source": [
    "df_features_season_w = df_season_results.groupby(['Season', 'WTeamID']).count().reset_index()[['Season', 'WTeamID']].rename(columns={\"WTeamID\": \"TeamID\"})\n",
    "df_features_season_l = df_season_results.groupby(['Season', 'LTeamID']).count().reset_index()[['Season', 'LTeamID']].rename(columns={\"LTeamID\": \"TeamID\"})"
   ]
  },
  {
   "cell_type": "code",
   "execution_count": 87,
   "id": "80b2e652",
   "metadata": {
    "execution": {
     "iopub.execute_input": "2022-02-25T19:24:47.434183Z",
     "iopub.status.busy": "2022-02-25T19:24:47.433509Z",
     "iopub.status.idle": "2022-02-25T19:24:47.446950Z",
     "shell.execute_reply": "2022-02-25T19:24:47.446418Z",
     "shell.execute_reply.started": "2022-02-25T19:16:01.392834Z"
    },
    "papermill": {
     "duration": 0.097733,
     "end_time": "2022-02-25T19:24:47.447108",
     "exception": false,
     "start_time": "2022-02-25T19:24:47.349375",
     "status": "completed"
    },
    "tags": []
   },
   "outputs": [],
   "source": [
    "df_features_season = (\n",
    "    pd.concat([df_features_season_w, df_features_season_l], axis=0)\n",
    "    .drop_duplicates()\n",
    "    .sort_values(['Season', 'TeamID'])\n",
    "    .reset_index(drop=True)\n",
    ")\n"
   ]
  },
  {
   "cell_type": "code",
   "execution_count": 88,
   "id": "b300028f",
   "metadata": {
    "execution": {
     "iopub.execute_input": "2022-02-25T19:24:47.608842Z",
     "iopub.status.busy": "2022-02-25T19:24:47.608259Z",
     "iopub.status.idle": "2022-02-25T19:24:47.633198Z",
     "shell.execute_reply": "2022-02-25T19:24:47.632637Z",
     "shell.execute_reply.started": "2022-02-25T19:16:01.420709Z"
    },
    "papermill": {
     "duration": 0.108977,
     "end_time": "2022-02-25T19:24:47.633350",
     "exception": false,
     "start_time": "2022-02-25T19:24:47.524373",
     "status": "completed"
    },
    "tags": []
   },
   "outputs": [],
   "source": [
    "df_features_season = df_features_season.merge(num_win, on=['Season', 'TeamID'], how='left')\n",
    "df_features_season = df_features_season.merge(num_loss, on=['Season', 'TeamID'], how='left')\n",
    "df_features_season = df_features_season.merge(gap_win, on=['Season', 'TeamID'], how='left')\n",
    "df_features_season = df_features_season.merge(gap_loss, on=['Season', 'TeamID'], how='left')"
   ]
  },
  {
   "cell_type": "code",
   "execution_count": 89,
   "id": "e4db8b7e",
   "metadata": {
    "execution": {
     "iopub.execute_input": "2022-02-25T19:24:47.793536Z",
     "iopub.status.busy": "2022-02-25T19:24:47.792520Z",
     "iopub.status.idle": "2022-02-25T19:24:47.795390Z",
     "shell.execute_reply": "2022-02-25T19:24:47.794707Z",
     "shell.execute_reply.started": "2022-02-25T19:16:01.463688Z"
    },
    "papermill": {
     "duration": 0.084708,
     "end_time": "2022-02-25T19:24:47.795526",
     "exception": false,
     "start_time": "2022-02-25T19:24:47.710818",
     "status": "completed"
    },
    "tags": []
   },
   "outputs": [],
   "source": [
    "df_features_season.fillna(0, inplace=True)  "
   ]
  },
  {
   "cell_type": "markdown",
   "id": "77d798bd",
   "metadata": {
    "papermill": {
     "duration": 0.077625,
     "end_time": "2022-02-25T19:24:47.950152",
     "exception": false,
     "start_time": "2022-02-25T19:24:47.872527",
     "status": "completed"
    },
    "tags": []
   },
   "source": [
    "Compute features"
   ]
  },
  {
   "cell_type": "code",
   "execution_count": 90,
   "id": "09d2a173",
   "metadata": {
    "execution": {
     "iopub.execute_input": "2022-02-25T19:24:48.114783Z",
     "iopub.status.busy": "2022-02-25T19:24:48.113729Z",
     "iopub.status.idle": "2022-02-25T19:24:48.115577Z",
     "shell.execute_reply": "2022-02-25T19:24:48.116138Z",
     "shell.execute_reply.started": "2022-02-25T19:16:01.470484Z"
    },
    "papermill": {
     "duration": 0.088655,
     "end_time": "2022-02-25T19:24:48.116310",
     "exception": false,
     "start_time": "2022-02-25T19:24:48.027655",
     "status": "completed"
    },
    "tags": []
   },
   "outputs": [],
   "source": [
    "df_features_season['WinRatio'] = df_features_season['NumWins'] / (df_features_season['NumWins'] + df_features_season['NumLosses'])\n",
    "df_features_season['GapAvg'] = (\n",
    "    (df_features_season['NumWins'] * df_features_season['GapWins'] - \n",
    "    df_features_season['NumLosses'] * df_features_season['GapLosses'])\n",
    "    / (df_features_season['NumWins'] + df_features_season['NumLosses'])\n",
    ")"
   ]
  },
  {
   "cell_type": "code",
   "execution_count": 91,
   "id": "3670be07",
   "metadata": {
    "execution": {
     "iopub.execute_input": "2022-02-25T19:24:48.276004Z",
     "iopub.status.busy": "2022-02-25T19:24:48.275060Z",
     "iopub.status.idle": "2022-02-25T19:24:48.281422Z",
     "shell.execute_reply": "2022-02-25T19:24:48.282012Z",
     "shell.execute_reply.started": "2022-02-25T19:16:01.489416Z"
    },
    "papermill": {
     "duration": 0.086904,
     "end_time": "2022-02-25T19:24:48.282185",
     "exception": false,
     "start_time": "2022-02-25T19:24:48.195281",
     "status": "completed"
    },
    "tags": []
   },
   "outputs": [],
   "source": [
    "df_features_season.drop(['NumWins', 'NumLosses', 'GapWins', 'GapLosses'], axis=1, inplace=True)"
   ]
  },
  {
   "cell_type": "markdown",
   "id": "9646c81f",
   "metadata": {
    "papermill": {
     "duration": 0.076423,
     "end_time": "2022-02-25T19:24:48.436466",
     "exception": false,
     "start_time": "2022-02-25T19:24:48.360043",
     "status": "completed"
    },
    "tags": []
   },
   "source": [
    "## Tourney results\n",
    "\n",
    "> This file identifies the game-by-game NCAA® tournament results for all seasons of historical data. The data is formatted exactly like the MRegularSeasonCompactResults data. All games will show up as neutral site (so WLoc is always N). Note that this tournament game data also includes the play-in games (which always occurred on day 134/135) for those years that had play-in games. Thus each season you will see between 63 and 67 games listed, depending on how many play-in games there were."
   ]
  },
  {
   "cell_type": "code",
   "execution_count": 92,
   "id": "4b983e0c",
   "metadata": {
    "execution": {
     "iopub.execute_input": "2022-02-25T19:24:48.590550Z",
     "iopub.status.busy": "2022-02-25T19:24:48.589913Z",
     "iopub.status.idle": "2022-02-25T19:24:48.603578Z",
     "shell.execute_reply": "2022-02-25T19:24:48.604118Z",
     "shell.execute_reply.started": "2022-02-25T19:16:01.507914Z"
    },
    "papermill": {
     "duration": 0.091465,
     "end_time": "2022-02-25T19:24:48.604278",
     "exception": false,
     "start_time": "2022-02-25T19:24:48.512813",
     "status": "completed"
    },
    "tags": []
   },
   "outputs": [],
   "source": [
    "df_tourney_results = pd.read_csv(DATA_PATH + \"MNCAATourneyCompactResults.csv\")\n",
    "df_tourney_results.drop(['NumOT', 'WLoc'], axis=1, inplace=True)"
   ]
  },
  {
   "cell_type": "markdown",
   "id": "6888a514",
   "metadata": {
    "papermill": {
     "duration": 0.075937,
     "end_time": "2022-02-25T19:24:48.754760",
     "exception": false,
     "start_time": "2022-02-25T19:24:48.678823",
     "status": "completed"
    },
    "tags": []
   },
   "source": [
    "## FiveThirtyEight Ratings\n",
    "> Thanks to Raddar ! https://www.kaggle.com/raddar/ncaa-men-538-team-ratings"
   ]
  },
  {
   "cell_type": "code",
   "execution_count": 93,
   "id": "38e4bed2",
   "metadata": {
    "execution": {
     "iopub.execute_input": "2022-02-25T19:24:48.910508Z",
     "iopub.status.busy": "2022-02-25T19:24:48.909852Z",
     "iopub.status.idle": "2022-02-25T19:24:48.929876Z",
     "shell.execute_reply": "2022-02-25T19:24:48.930387Z",
     "shell.execute_reply.started": "2022-02-25T19:16:01.533938Z"
    },
    "papermill": {
     "duration": 0.100045,
     "end_time": "2022-02-25T19:24:48.930550",
     "exception": false,
     "start_time": "2022-02-25T19:24:48.830505",
     "status": "completed"
    },
    "tags": []
   },
   "outputs": [
    {
     "data": {
      "text/html": [
       "<div>\n",
       "<style scoped>\n",
       "    .dataframe tbody tr th:only-of-type {\n",
       "        vertical-align: middle;\n",
       "    }\n",
       "\n",
       "    .dataframe tbody tr th {\n",
       "        vertical-align: top;\n",
       "    }\n",
       "\n",
       "    .dataframe thead th {\n",
       "        text-align: right;\n",
       "    }\n",
       "</style>\n",
       "<table border=\"1\" class=\"dataframe\">\n",
       "  <thead>\n",
       "    <tr style=\"text-align: right;\">\n",
       "      <th></th>\n",
       "      <th>Season</th>\n",
       "      <th>TeamID</th>\n",
       "      <th>538rating</th>\n",
       "    </tr>\n",
       "  </thead>\n",
       "  <tbody>\n",
       "    <tr>\n",
       "      <th>0</th>\n",
       "      <td>2016</td>\n",
       "      <td>1242</td>\n",
       "      <td>94.46</td>\n",
       "    </tr>\n",
       "    <tr>\n",
       "      <th>1</th>\n",
       "      <td>2016</td>\n",
       "      <td>1314</td>\n",
       "      <td>93.94</td>\n",
       "    </tr>\n",
       "    <tr>\n",
       "      <th>2</th>\n",
       "      <td>2016</td>\n",
       "      <td>1438</td>\n",
       "      <td>92.46</td>\n",
       "    </tr>\n",
       "    <tr>\n",
       "      <th>3</th>\n",
       "      <td>2016</td>\n",
       "      <td>1277</td>\n",
       "      <td>91.84</td>\n",
       "    </tr>\n",
       "    <tr>\n",
       "      <th>4</th>\n",
       "      <td>2016</td>\n",
       "      <td>1328</td>\n",
       "      <td>89.96</td>\n",
       "    </tr>\n",
       "  </tbody>\n",
       "</table>\n",
       "</div>"
      ],
      "text/plain": [
       "   Season  TeamID  538rating\n",
       "0    2016    1242      94.46\n",
       "1    2016    1314      93.94\n",
       "2    2016    1438      92.46\n",
       "3    2016    1277      91.84\n",
       "4    2016    1328      89.96"
      ]
     },
     "execution_count": 93,
     "metadata": {},
     "output_type": "execute_result"
    }
   ],
   "source": [
    "df_538 = pd.read_csv(\"./538ratingsMen.csv\")\n",
    "df_538.drop('TeamName', axis=1, inplace=True)\n",
    "\n",
    "df_538.head()"
   ]
  },
  {
   "cell_type": "markdown",
   "id": "880fe76b",
   "metadata": {
    "papermill": {
     "duration": 0.077468,
     "end_time": "2022-02-25T19:24:49.086308",
     "exception": false,
     "start_time": "2022-02-25T19:24:49.008840",
     "status": "completed"
    },
    "tags": []
   },
   "source": [
    "# Feature Engineering"
   ]
  },
  {
   "cell_type": "markdown",
   "id": "173668da",
   "metadata": {
    "papermill": {
     "duration": 0.075714,
     "end_time": "2022-02-25T19:24:49.241148",
     "exception": false,
     "start_time": "2022-02-25T19:24:49.165434",
     "status": "completed"
    },
    "tags": []
   },
   "source": [
    "## Train data"
   ]
  },
  {
   "cell_type": "code",
   "execution_count": 94,
   "id": "5cd97f72",
   "metadata": {
    "execution": {
     "iopub.execute_input": "2022-02-25T19:24:49.397651Z",
     "iopub.status.busy": "2022-02-25T19:24:49.397032Z",
     "iopub.status.idle": "2022-02-25T19:24:49.408482Z",
     "shell.execute_reply": "2022-02-25T19:24:49.408968Z",
     "shell.execute_reply.started": "2022-02-25T19:16:01.577510Z"
    },
    "papermill": {
     "duration": 0.090144,
     "end_time": "2022-02-25T19:24:49.409149",
     "exception": false,
     "start_time": "2022-02-25T19:24:49.319005",
     "status": "completed"
    },
    "tags": []
   },
   "outputs": [
    {
     "data": {
      "text/html": [
       "<div>\n",
       "<style scoped>\n",
       "    .dataframe tbody tr th:only-of-type {\n",
       "        vertical-align: middle;\n",
       "    }\n",
       "\n",
       "    .dataframe tbody tr th {\n",
       "        vertical-align: top;\n",
       "    }\n",
       "\n",
       "    .dataframe thead th {\n",
       "        text-align: right;\n",
       "    }\n",
       "</style>\n",
       "<table border=\"1\" class=\"dataframe\">\n",
       "  <thead>\n",
       "    <tr style=\"text-align: right;\">\n",
       "      <th></th>\n",
       "      <th>Season</th>\n",
       "      <th>DayNum</th>\n",
       "      <th>WTeamID</th>\n",
       "      <th>WScore</th>\n",
       "      <th>LTeamID</th>\n",
       "      <th>LScore</th>\n",
       "    </tr>\n",
       "  </thead>\n",
       "  <tbody>\n",
       "    <tr>\n",
       "      <th>0</th>\n",
       "      <td>2016</td>\n",
       "      <td>134</td>\n",
       "      <td>1195</td>\n",
       "      <td>96</td>\n",
       "      <td>1192</td>\n",
       "      <td>65</td>\n",
       "    </tr>\n",
       "    <tr>\n",
       "      <th>1</th>\n",
       "      <td>2016</td>\n",
       "      <td>134</td>\n",
       "      <td>1455</td>\n",
       "      <td>70</td>\n",
       "      <td>1435</td>\n",
       "      <td>50</td>\n",
       "    </tr>\n",
       "    <tr>\n",
       "      <th>2</th>\n",
       "      <td>2016</td>\n",
       "      <td>135</td>\n",
       "      <td>1221</td>\n",
       "      <td>59</td>\n",
       "      <td>1380</td>\n",
       "      <td>55</td>\n",
       "    </tr>\n",
       "    <tr>\n",
       "      <th>3</th>\n",
       "      <td>2016</td>\n",
       "      <td>135</td>\n",
       "      <td>1276</td>\n",
       "      <td>67</td>\n",
       "      <td>1409</td>\n",
       "      <td>62</td>\n",
       "    </tr>\n",
       "    <tr>\n",
       "      <th>4</th>\n",
       "      <td>2016</td>\n",
       "      <td>136</td>\n",
       "      <td>1114</td>\n",
       "      <td>85</td>\n",
       "      <td>1345</td>\n",
       "      <td>83</td>\n",
       "    </tr>\n",
       "  </tbody>\n",
       "</table>\n",
       "</div>"
      ],
      "text/plain": [
       "   Season  DayNum  WTeamID  WScore  LTeamID  LScore\n",
       "0    2016     134     1195      96     1192      65\n",
       "1    2016     134     1455      70     1435      50\n",
       "2    2016     135     1221      59     1380      55\n",
       "3    2016     135     1276      67     1409      62\n",
       "4    2016     136     1114      85     1345      83"
      ]
     },
     "execution_count": 94,
     "metadata": {},
     "output_type": "execute_result"
    }
   ],
   "source": [
    "df = df_tourney_results.copy()\n",
    "df = df[df['Season'] >= 2016].reset_index(drop=True)\n",
    "\n",
    "df.head()"
   ]
  },
  {
   "cell_type": "markdown",
   "id": "18b0a8a9",
   "metadata": {
    "papermill": {
     "duration": 0.077685,
     "end_time": "2022-02-25T19:24:49.564605",
     "exception": false,
     "start_time": "2022-02-25T19:24:49.486920",
     "status": "completed"
    },
    "tags": []
   },
   "source": [
    "### Seeds\n",
    "- `SeedW` is the seed of the winning team\n",
    "- `SeedL` is the seed of the losing team"
   ]
  },
  {
   "cell_type": "code",
   "execution_count": 95,
   "id": "4160984f",
   "metadata": {
    "execution": {
     "iopub.execute_input": "2022-02-25T19:24:49.726221Z",
     "iopub.status.busy": "2022-02-25T19:24:49.725553Z",
     "iopub.status.idle": "2022-02-25T19:24:49.733439Z",
     "shell.execute_reply": "2022-02-25T19:24:49.732891Z",
     "shell.execute_reply.started": "2022-02-25T19:16:01.594302Z"
    },
    "papermill": {
     "duration": 0.091087,
     "end_time": "2022-02-25T19:24:49.733599",
     "exception": false,
     "start_time": "2022-02-25T19:24:49.642512",
     "status": "completed"
    },
    "tags": []
   },
   "outputs": [],
   "source": [
    "df = pd.merge(\n",
    "    df, \n",
    "    df_seeds, \n",
    "    how='left', \n",
    "    left_on=['Season', 'WTeamID'], \n",
    "    right_on=['Season', 'TeamID']\n",
    ").drop('TeamID', axis=1).rename(columns={'Seed': 'SeedW'})"
   ]
  },
  {
   "cell_type": "code",
   "execution_count": 96,
   "id": "a3351c4f",
   "metadata": {
    "execution": {
     "iopub.execute_input": "2022-02-25T19:24:49.898445Z",
     "iopub.status.busy": "2022-02-25T19:24:49.895918Z",
     "iopub.status.idle": "2022-02-25T19:24:49.904954Z",
     "shell.execute_reply": "2022-02-25T19:24:49.904425Z",
     "shell.execute_reply.started": "2022-02-25T19:16:01.622999Z"
    },
    "papermill": {
     "duration": 0.0925,
     "end_time": "2022-02-25T19:24:49.905108",
     "exception": false,
     "start_time": "2022-02-25T19:24:49.812608",
     "status": "completed"
    },
    "tags": []
   },
   "outputs": [],
   "source": [
    "df = pd.merge(\n",
    "    df, \n",
    "    df_seeds, \n",
    "    how='left', \n",
    "    left_on=['Season', 'LTeamID'], \n",
    "    right_on=['Season', 'TeamID']\n",
    ").drop('TeamID', axis=1).rename(columns={'Seed': 'SeedL'})"
   ]
  },
  {
   "cell_type": "code",
   "execution_count": 97,
   "id": "7baf1130",
   "metadata": {
    "execution": {
     "iopub.execute_input": "2022-02-25T19:24:50.067033Z",
     "iopub.status.busy": "2022-02-25T19:24:50.066390Z",
     "iopub.status.idle": "2022-02-25T19:24:50.068109Z",
     "shell.execute_reply": "2022-02-25T19:24:50.068664Z",
     "shell.execute_reply.started": "2022-02-25T19:16:01.642024Z"
    },
    "papermill": {
     "duration": 0.085338,
     "end_time": "2022-02-25T19:24:50.068822",
     "exception": false,
     "start_time": "2022-02-25T19:24:49.983484",
     "status": "completed"
    },
    "tags": []
   },
   "outputs": [],
   "source": [
    "def treat_seed(seed):\n",
    "    return int(re.sub(\"[^0-9]\", \"\", seed))"
   ]
  },
  {
   "cell_type": "code",
   "execution_count": 98,
   "id": "99a3dad9",
   "metadata": {
    "execution": {
     "iopub.execute_input": "2022-02-25T19:24:50.227055Z",
     "iopub.status.busy": "2022-02-25T19:24:50.226460Z",
     "iopub.status.idle": "2022-02-25T19:24:50.234478Z",
     "shell.execute_reply": "2022-02-25T19:24:50.234978Z",
     "shell.execute_reply.started": "2022-02-25T19:16:01.655598Z"
    },
    "papermill": {
     "duration": 0.08807,
     "end_time": "2022-02-25T19:24:50.235147",
     "exception": false,
     "start_time": "2022-02-25T19:24:50.147077",
     "status": "completed"
    },
    "tags": []
   },
   "outputs": [],
   "source": [
    "df['SeedW'] = df['SeedW'].apply(treat_seed)\n",
    "df['SeedL'] = df['SeedL'].apply(treat_seed)"
   ]
  },
  {
   "cell_type": "code",
   "execution_count": 99,
   "id": "465bd5c2",
   "metadata": {
    "execution": {
     "iopub.execute_input": "2022-02-25T19:24:50.392998Z",
     "iopub.status.busy": "2022-02-25T19:24:50.392382Z",
     "iopub.status.idle": "2022-02-25T19:24:50.401740Z",
     "shell.execute_reply": "2022-02-25T19:24:50.402446Z",
     "shell.execute_reply.started": "2022-02-25T19:16:01.674294Z"
    },
    "papermill": {
     "duration": 0.08983,
     "end_time": "2022-02-25T19:24:50.402607",
     "exception": false,
     "start_time": "2022-02-25T19:24:50.312777",
     "status": "completed"
    },
    "tags": []
   },
   "outputs": [
    {
     "data": {
      "text/html": [
       "<div>\n",
       "<style scoped>\n",
       "    .dataframe tbody tr th:only-of-type {\n",
       "        vertical-align: middle;\n",
       "    }\n",
       "\n",
       "    .dataframe tbody tr th {\n",
       "        vertical-align: top;\n",
       "    }\n",
       "\n",
       "    .dataframe thead th {\n",
       "        text-align: right;\n",
       "    }\n",
       "</style>\n",
       "<table border=\"1\" class=\"dataframe\">\n",
       "  <thead>\n",
       "    <tr style=\"text-align: right;\">\n",
       "      <th></th>\n",
       "      <th>Season</th>\n",
       "      <th>DayNum</th>\n",
       "      <th>WTeamID</th>\n",
       "      <th>WScore</th>\n",
       "      <th>LTeamID</th>\n",
       "      <th>LScore</th>\n",
       "      <th>SeedW</th>\n",
       "      <th>SeedL</th>\n",
       "    </tr>\n",
       "  </thead>\n",
       "  <tbody>\n",
       "    <tr>\n",
       "      <th>0</th>\n",
       "      <td>2016</td>\n",
       "      <td>134</td>\n",
       "      <td>1195</td>\n",
       "      <td>96</td>\n",
       "      <td>1192</td>\n",
       "      <td>65</td>\n",
       "      <td>16</td>\n",
       "      <td>16</td>\n",
       "    </tr>\n",
       "    <tr>\n",
       "      <th>1</th>\n",
       "      <td>2016</td>\n",
       "      <td>134</td>\n",
       "      <td>1455</td>\n",
       "      <td>70</td>\n",
       "      <td>1435</td>\n",
       "      <td>50</td>\n",
       "      <td>11</td>\n",
       "      <td>11</td>\n",
       "    </tr>\n",
       "    <tr>\n",
       "      <th>2</th>\n",
       "      <td>2016</td>\n",
       "      <td>135</td>\n",
       "      <td>1221</td>\n",
       "      <td>59</td>\n",
       "      <td>1380</td>\n",
       "      <td>55</td>\n",
       "      <td>16</td>\n",
       "      <td>16</td>\n",
       "    </tr>\n",
       "    <tr>\n",
       "      <th>3</th>\n",
       "      <td>2016</td>\n",
       "      <td>135</td>\n",
       "      <td>1276</td>\n",
       "      <td>67</td>\n",
       "      <td>1409</td>\n",
       "      <td>62</td>\n",
       "      <td>11</td>\n",
       "      <td>11</td>\n",
       "    </tr>\n",
       "    <tr>\n",
       "      <th>4</th>\n",
       "      <td>2016</td>\n",
       "      <td>136</td>\n",
       "      <td>1114</td>\n",
       "      <td>85</td>\n",
       "      <td>1345</td>\n",
       "      <td>83</td>\n",
       "      <td>12</td>\n",
       "      <td>5</td>\n",
       "    </tr>\n",
       "  </tbody>\n",
       "</table>\n",
       "</div>"
      ],
      "text/plain": [
       "   Season  DayNum  WTeamID  WScore  LTeamID  LScore  SeedW  SeedL\n",
       "0    2016     134     1195      96     1192      65     16     16\n",
       "1    2016     134     1455      70     1435      50     11     11\n",
       "2    2016     135     1221      59     1380      55     16     16\n",
       "3    2016     135     1276      67     1409      62     11     11\n",
       "4    2016     136     1114      85     1345      83     12      5"
      ]
     },
     "execution_count": 99,
     "metadata": {},
     "output_type": "execute_result"
    }
   ],
   "source": [
    "df.head()"
   ]
  },
  {
   "cell_type": "markdown",
   "id": "5ea66b34",
   "metadata": {
    "papermill": {
     "duration": 0.077172,
     "end_time": "2022-02-25T19:24:50.559019",
     "exception": false,
     "start_time": "2022-02-25T19:24:50.481847",
     "status": "completed"
    },
    "tags": []
   },
   "source": [
    "### Season Stats\n",
    "- `WinRatioW` is the win ratio of the winning team during the season\n",
    "- `WinRatioL` is the win ratio of the losing team during the season"
   ]
  },
  {
   "cell_type": "code",
   "execution_count": 100,
   "id": "9366f3be",
   "metadata": {
    "execution": {
     "iopub.execute_input": "2022-02-25T19:24:50.718740Z",
     "iopub.status.busy": "2022-02-25T19:24:50.718128Z",
     "iopub.status.idle": "2022-02-25T19:24:50.729240Z",
     "shell.execute_reply": "2022-02-25T19:24:50.729745Z",
     "shell.execute_reply.started": "2022-02-25T19:16:01.697324Z"
    },
    "papermill": {
     "duration": 0.09296,
     "end_time": "2022-02-25T19:24:50.729911",
     "exception": false,
     "start_time": "2022-02-25T19:24:50.636951",
     "status": "completed"
    },
    "tags": []
   },
   "outputs": [],
   "source": [
    "df = pd.merge(\n",
    "    df,\n",
    "    df_features_season,\n",
    "    how='left',\n",
    "    left_on=['Season', 'WTeamID'],\n",
    "    right_on=['Season', 'TeamID']\n",
    ").rename(columns={\n",
    "    'NumWins': 'NumWinsW',\n",
    "    'NumLosses': 'NumLossesW',\n",
    "    'GapWins': 'GapWinsW',\n",
    "    'GapLosses': 'GapLossesW',\n",
    "    'WinRatio': 'WinRatioW',\n",
    "    'GapAvg': 'GapAvgW',\n",
    "}).drop(columns='TeamID', axis=1)"
   ]
  },
  {
   "cell_type": "code",
   "execution_count": 101,
   "id": "c6dd03e5",
   "metadata": {
    "execution": {
     "iopub.execute_input": "2022-02-25T19:24:50.886812Z",
     "iopub.status.busy": "2022-02-25T19:24:50.886190Z",
     "iopub.status.idle": "2022-02-25T19:24:50.896055Z",
     "shell.execute_reply": "2022-02-25T19:24:50.896502Z",
     "shell.execute_reply.started": "2022-02-25T19:16:01.716652Z"
    },
    "papermill": {
     "duration": 0.088831,
     "end_time": "2022-02-25T19:24:50.896663",
     "exception": false,
     "start_time": "2022-02-25T19:24:50.807832",
     "status": "completed"
    },
    "tags": []
   },
   "outputs": [],
   "source": [
    "df = pd.merge(\n",
    "    df,\n",
    "    df_features_season,\n",
    "    how='left',\n",
    "    left_on=['Season', 'LTeamID'],\n",
    "    right_on=['Season', 'TeamID']\n",
    ").rename(columns={\n",
    "    'NumWins': 'NumWinsL',\n",
    "    'NumLosses': 'NumLossesL',\n",
    "    'GapWins': 'GapWinsL',\n",
    "    'GapLosses': 'GapLossesL',\n",
    "    'WinRatio': 'WinRatioL',\n",
    "    'GapAvg': 'GapAvgL',\n",
    "}).drop(columns='TeamID', axis=1)"
   ]
  },
  {
   "cell_type": "code",
   "execution_count": 102,
   "id": "fc2c8575",
   "metadata": {
    "execution": {
     "iopub.execute_input": "2022-02-25T19:24:51.069558Z",
     "iopub.status.busy": "2022-02-25T19:24:51.068755Z",
     "iopub.status.idle": "2022-02-25T19:24:51.072581Z",
     "shell.execute_reply": "2022-02-25T19:24:51.072096Z",
     "shell.execute_reply.started": "2022-02-25T19:16:01.733033Z"
    },
    "papermill": {
     "duration": 0.097114,
     "end_time": "2022-02-25T19:24:51.072707",
     "exception": false,
     "start_time": "2022-02-25T19:24:50.975593",
     "status": "completed"
    },
    "tags": []
   },
   "outputs": [
    {
     "data": {
      "text/html": [
       "<div>\n",
       "<style scoped>\n",
       "    .dataframe tbody tr th:only-of-type {\n",
       "        vertical-align: middle;\n",
       "    }\n",
       "\n",
       "    .dataframe tbody tr th {\n",
       "        vertical-align: top;\n",
       "    }\n",
       "\n",
       "    .dataframe thead th {\n",
       "        text-align: right;\n",
       "    }\n",
       "</style>\n",
       "<table border=\"1\" class=\"dataframe\">\n",
       "  <thead>\n",
       "    <tr style=\"text-align: right;\">\n",
       "      <th></th>\n",
       "      <th>Season</th>\n",
       "      <th>DayNum</th>\n",
       "      <th>WTeamID</th>\n",
       "      <th>WScore</th>\n",
       "      <th>LTeamID</th>\n",
       "      <th>LScore</th>\n",
       "      <th>SeedW</th>\n",
       "      <th>SeedL</th>\n",
       "      <th>WinRatioW</th>\n",
       "      <th>GapAvgW</th>\n",
       "      <th>WinRatioL</th>\n",
       "      <th>GapAvgL</th>\n",
       "    </tr>\n",
       "  </thead>\n",
       "  <tbody>\n",
       "    <tr>\n",
       "      <th>0</th>\n",
       "      <td>2016</td>\n",
       "      <td>134</td>\n",
       "      <td>1195</td>\n",
       "      <td>96</td>\n",
       "      <td>1192</td>\n",
       "      <td>65</td>\n",
       "      <td>16</td>\n",
       "      <td>16</td>\n",
       "      <td>0.551724</td>\n",
       "      <td>2.724138</td>\n",
       "      <td>0.548387</td>\n",
       "      <td>-1.677419</td>\n",
       "    </tr>\n",
       "    <tr>\n",
       "      <th>1</th>\n",
       "      <td>2016</td>\n",
       "      <td>134</td>\n",
       "      <td>1455</td>\n",
       "      <td>70</td>\n",
       "      <td>1435</td>\n",
       "      <td>50</td>\n",
       "      <td>11</td>\n",
       "      <td>11</td>\n",
       "      <td>0.741935</td>\n",
       "      <td>13.709677</td>\n",
       "      <td>0.593750</td>\n",
       "      <td>9.406250</td>\n",
       "    </tr>\n",
       "    <tr>\n",
       "      <th>2</th>\n",
       "      <td>2016</td>\n",
       "      <td>135</td>\n",
       "      <td>1221</td>\n",
       "      <td>59</td>\n",
       "      <td>1380</td>\n",
       "      <td>55</td>\n",
       "      <td>16</td>\n",
       "      <td>16</td>\n",
       "      <td>0.424242</td>\n",
       "      <td>-4.333333</td>\n",
       "      <td>0.612903</td>\n",
       "      <td>1.870968</td>\n",
       "    </tr>\n",
       "    <tr>\n",
       "      <th>3</th>\n",
       "      <td>2016</td>\n",
       "      <td>135</td>\n",
       "      <td>1276</td>\n",
       "      <td>67</td>\n",
       "      <td>1409</td>\n",
       "      <td>62</td>\n",
       "      <td>11</td>\n",
       "      <td>11</td>\n",
       "      <td>0.636364</td>\n",
       "      <td>6.242424</td>\n",
       "      <td>0.645161</td>\n",
       "      <td>4.322581</td>\n",
       "    </tr>\n",
       "    <tr>\n",
       "      <th>4</th>\n",
       "      <td>2016</td>\n",
       "      <td>136</td>\n",
       "      <td>1114</td>\n",
       "      <td>85</td>\n",
       "      <td>1345</td>\n",
       "      <td>83</td>\n",
       "      <td>12</td>\n",
       "      <td>5</td>\n",
       "      <td>0.870968</td>\n",
       "      <td>9.935484</td>\n",
       "      <td>0.764706</td>\n",
       "      <td>13.147059</td>\n",
       "    </tr>\n",
       "  </tbody>\n",
       "</table>\n",
       "</div>"
      ],
      "text/plain": [
       "   Season  DayNum  WTeamID  WScore  LTeamID  LScore  SeedW  SeedL  WinRatioW  \\\n",
       "0    2016     134     1195      96     1192      65     16     16   0.551724   \n",
       "1    2016     134     1455      70     1435      50     11     11   0.741935   \n",
       "2    2016     135     1221      59     1380      55     16     16   0.424242   \n",
       "3    2016     135     1276      67     1409      62     11     11   0.636364   \n",
       "4    2016     136     1114      85     1345      83     12      5   0.870968   \n",
       "\n",
       "     GapAvgW  WinRatioL    GapAvgL  \n",
       "0   2.724138   0.548387  -1.677419  \n",
       "1  13.709677   0.593750   9.406250  \n",
       "2  -4.333333   0.612903   1.870968  \n",
       "3   6.242424   0.645161   4.322581  \n",
       "4   9.935484   0.764706  13.147059  "
      ]
     },
     "execution_count": 102,
     "metadata": {},
     "output_type": "execute_result"
    }
   ],
   "source": [
    "df.head()"
   ]
  },
  {
   "cell_type": "markdown",
   "id": "47c4251e",
   "metadata": {
    "papermill": {
     "duration": 0.077761,
     "end_time": "2022-02-25T19:24:51.230059",
     "exception": false,
     "start_time": "2022-02-25T19:24:51.152298",
     "status": "completed"
    },
    "tags": []
   },
   "source": [
    "### FiveThirtyEight Ratings\n",
    "- `538ratingW` is the rating of the winning team during the season\n",
    "- `538ratingL` is the rating of the losing team during the season"
   ]
  },
  {
   "cell_type": "code",
   "execution_count": 103,
   "id": "b689aa82",
   "metadata": {
    "execution": {
     "iopub.execute_input": "2022-02-25T19:24:51.391390Z",
     "iopub.status.busy": "2022-02-25T19:24:51.390748Z",
     "iopub.status.idle": "2022-02-25T19:24:51.399415Z",
     "shell.execute_reply": "2022-02-25T19:24:51.399912Z",
     "shell.execute_reply.started": "2022-02-25T19:16:01.760028Z"
    },
    "papermill": {
     "duration": 0.090579,
     "end_time": "2022-02-25T19:24:51.400091",
     "exception": false,
     "start_time": "2022-02-25T19:24:51.309512",
     "status": "completed"
    },
    "tags": []
   },
   "outputs": [],
   "source": [
    "df = pd.merge(\n",
    "    df,\n",
    "    df_538,\n",
    "    how='left',\n",
    "    left_on=['Season', 'WTeamID'],\n",
    "    right_on=['Season', 'TeamID']\n",
    ").drop('TeamID', axis=1).rename(columns={'538rating': '538ratingW'})"
   ]
  },
  {
   "cell_type": "code",
   "execution_count": 104,
   "id": "4fbd2ad0",
   "metadata": {
    "execution": {
     "iopub.execute_input": "2022-02-25T19:24:51.562851Z",
     "iopub.status.busy": "2022-02-25T19:24:51.562275Z",
     "iopub.status.idle": "2022-02-25T19:24:51.571571Z",
     "shell.execute_reply": "2022-02-25T19:24:51.571061Z",
     "shell.execute_reply.started": "2022-02-25T19:16:01.777765Z"
    },
    "papermill": {
     "duration": 0.091726,
     "end_time": "2022-02-25T19:24:51.571706",
     "exception": false,
     "start_time": "2022-02-25T19:24:51.479980",
     "status": "completed"
    },
    "tags": []
   },
   "outputs": [],
   "source": [
    "df = pd.merge(\n",
    "    df, \n",
    "    df_538, \n",
    "    how='left', \n",
    "    left_on=['Season', 'LTeamID'], \n",
    "    right_on=['Season', 'TeamID']\n",
    ").drop('TeamID', axis=1).rename(columns={'538rating': '538ratingL'})"
   ]
  },
  {
   "cell_type": "code",
   "execution_count": 105,
   "id": "b01eddfb",
   "metadata": {
    "execution": {
     "iopub.execute_input": "2022-02-25T19:24:51.737498Z",
     "iopub.status.busy": "2022-02-25T19:24:51.736890Z",
     "iopub.status.idle": "2022-02-25T19:24:51.751765Z",
     "shell.execute_reply": "2022-02-25T19:24:51.752305Z",
     "shell.execute_reply.started": "2022-02-25T19:16:01.792484Z"
    },
    "papermill": {
     "duration": 0.101694,
     "end_time": "2022-02-25T19:24:51.752484",
     "exception": false,
     "start_time": "2022-02-25T19:24:51.650790",
     "status": "completed"
    },
    "tags": []
   },
   "outputs": [
    {
     "data": {
      "text/html": [
       "<div>\n",
       "<style scoped>\n",
       "    .dataframe tbody tr th:only-of-type {\n",
       "        vertical-align: middle;\n",
       "    }\n",
       "\n",
       "    .dataframe tbody tr th {\n",
       "        vertical-align: top;\n",
       "    }\n",
       "\n",
       "    .dataframe thead th {\n",
       "        text-align: right;\n",
       "    }\n",
       "</style>\n",
       "<table border=\"1\" class=\"dataframe\">\n",
       "  <thead>\n",
       "    <tr style=\"text-align: right;\">\n",
       "      <th></th>\n",
       "      <th>Season</th>\n",
       "      <th>DayNum</th>\n",
       "      <th>WTeamID</th>\n",
       "      <th>WScore</th>\n",
       "      <th>LTeamID</th>\n",
       "      <th>LScore</th>\n",
       "      <th>SeedW</th>\n",
       "      <th>SeedL</th>\n",
       "      <th>WinRatioW</th>\n",
       "      <th>GapAvgW</th>\n",
       "      <th>WinRatioL</th>\n",
       "      <th>GapAvgL</th>\n",
       "      <th>538ratingW</th>\n",
       "      <th>538ratingL</th>\n",
       "    </tr>\n",
       "  </thead>\n",
       "  <tbody>\n",
       "    <tr>\n",
       "      <th>0</th>\n",
       "      <td>2016</td>\n",
       "      <td>134</td>\n",
       "      <td>1195</td>\n",
       "      <td>96</td>\n",
       "      <td>1192</td>\n",
       "      <td>65</td>\n",
       "      <td>16</td>\n",
       "      <td>16</td>\n",
       "      <td>0.551724</td>\n",
       "      <td>2.724138</td>\n",
       "      <td>0.548387</td>\n",
       "      <td>-1.677419</td>\n",
       "      <td>71.41</td>\n",
       "      <td>66.72</td>\n",
       "    </tr>\n",
       "    <tr>\n",
       "      <th>1</th>\n",
       "      <td>2016</td>\n",
       "      <td>134</td>\n",
       "      <td>1455</td>\n",
       "      <td>70</td>\n",
       "      <td>1435</td>\n",
       "      <td>50</td>\n",
       "      <td>11</td>\n",
       "      <td>11</td>\n",
       "      <td>0.741935</td>\n",
       "      <td>13.709677</td>\n",
       "      <td>0.593750</td>\n",
       "      <td>9.406250</td>\n",
       "      <td>86.59</td>\n",
       "      <td>85.59</td>\n",
       "    </tr>\n",
       "    <tr>\n",
       "      <th>2</th>\n",
       "      <td>2016</td>\n",
       "      <td>135</td>\n",
       "      <td>1221</td>\n",
       "      <td>59</td>\n",
       "      <td>1380</td>\n",
       "      <td>55</td>\n",
       "      <td>16</td>\n",
       "      <td>16</td>\n",
       "      <td>0.424242</td>\n",
       "      <td>-4.333333</td>\n",
       "      <td>0.612903</td>\n",
       "      <td>1.870968</td>\n",
       "      <td>66.85</td>\n",
       "      <td>67.96</td>\n",
       "    </tr>\n",
       "    <tr>\n",
       "      <th>3</th>\n",
       "      <td>2016</td>\n",
       "      <td>135</td>\n",
       "      <td>1276</td>\n",
       "      <td>67</td>\n",
       "      <td>1409</td>\n",
       "      <td>62</td>\n",
       "      <td>11</td>\n",
       "      <td>11</td>\n",
       "      <td>0.636364</td>\n",
       "      <td>6.242424</td>\n",
       "      <td>0.645161</td>\n",
       "      <td>4.322581</td>\n",
       "      <td>79.57</td>\n",
       "      <td>79.93</td>\n",
       "    </tr>\n",
       "    <tr>\n",
       "      <th>4</th>\n",
       "      <td>2016</td>\n",
       "      <td>136</td>\n",
       "      <td>1114</td>\n",
       "      <td>85</td>\n",
       "      <td>1345</td>\n",
       "      <td>83</td>\n",
       "      <td>12</td>\n",
       "      <td>5</td>\n",
       "      <td>0.870968</td>\n",
       "      <td>9.935484</td>\n",
       "      <td>0.764706</td>\n",
       "      <td>13.147059</td>\n",
       "      <td>78.90</td>\n",
       "      <td>88.68</td>\n",
       "    </tr>\n",
       "  </tbody>\n",
       "</table>\n",
       "</div>"
      ],
      "text/plain": [
       "   Season  DayNum  WTeamID  WScore  LTeamID  LScore  SeedW  SeedL  WinRatioW  \\\n",
       "0    2016     134     1195      96     1192      65     16     16   0.551724   \n",
       "1    2016     134     1455      70     1435      50     11     11   0.741935   \n",
       "2    2016     135     1221      59     1380      55     16     16   0.424242   \n",
       "3    2016     135     1276      67     1409      62     11     11   0.636364   \n",
       "4    2016     136     1114      85     1345      83     12      5   0.870968   \n",
       "\n",
       "     GapAvgW  WinRatioL    GapAvgL  538ratingW  538ratingL  \n",
       "0   2.724138   0.548387  -1.677419       71.41       66.72  \n",
       "1  13.709677   0.593750   9.406250       86.59       85.59  \n",
       "2  -4.333333   0.612903   1.870968       66.85       67.96  \n",
       "3   6.242424   0.645161   4.322581       79.57       79.93  \n",
       "4   9.935484   0.764706  13.147059       78.90       88.68  "
      ]
     },
     "execution_count": 105,
     "metadata": {},
     "output_type": "execute_result"
    }
   ],
   "source": [
    "df.head()"
   ]
  },
  {
   "cell_type": "markdown",
   "id": "0b9af59f",
   "metadata": {
    "papermill": {
     "duration": 0.077948,
     "end_time": "2022-02-25T19:24:51.910157",
     "exception": false,
     "start_time": "2022-02-25T19:24:51.832209",
     "status": "completed"
    },
    "tags": []
   },
   "source": [
    "### Add symetrical\n",
    "- Right now our data only consists of won matches\n",
    "- We duplicate our data, get rid of the winner loser "
   ]
  },
  {
   "cell_type": "code",
   "execution_count": 106,
   "id": "92d61b1d",
   "metadata": {
    "execution": {
     "iopub.execute_input": "2022-02-25T19:24:52.072763Z",
     "iopub.status.busy": "2022-02-25T19:24:52.072113Z",
     "iopub.status.idle": "2022-02-25T19:24:52.080478Z",
     "shell.execute_reply": "2022-02-25T19:24:52.081045Z",
     "shell.execute_reply.started": "2022-02-25T19:16:01.815807Z"
    },
    "papermill": {
     "duration": 0.092113,
     "end_time": "2022-02-25T19:24:52.081211",
     "exception": false,
     "start_time": "2022-02-25T19:24:51.989098",
     "status": "completed"
    },
    "tags": []
   },
   "outputs": [],
   "source": [
    "def add_loosing_matches(df):\n",
    "    win_rename = {\n",
    "        \"WTeamID\": \"TeamIdA\", \n",
    "        \"WScore\" : \"ScoreA\", \n",
    "        \"LTeamID\" : \"TeamIdB\",\n",
    "        \"LScore\": \"ScoreB\",\n",
    "    }\n",
    "    win_rename.update({c : c[:-1] + \"A\" for c in df.columns if c.endswith('W')})\n",
    "    win_rename.update({c : c[:-1] + \"B\" for c in df.columns if c.endswith('L')})\n",
    "    \n",
    "    lose_rename = {\n",
    "        \"WTeamID\": \"TeamIdB\", \n",
    "        \"WScore\" : \"ScoreB\", \n",
    "        \"LTeamID\" : \"TeamIdA\",\n",
    "        \"LScore\": \"ScoreA\",\n",
    "    }\n",
    "    lose_rename.update({c : c[:-1] + \"B\" for c in df.columns if c.endswith('W')})\n",
    "    lose_rename.update({c : c[:-1] + \"A\" for c in df.columns if c.endswith('L')})\n",
    "    \n",
    "    win_df = df.copy()\n",
    "    lose_df = df.copy()\n",
    "    \n",
    "    win_df = win_df.rename(columns=win_rename)\n",
    "    lose_df = lose_df.rename(columns=lose_rename)\n",
    "    \n",
    "    return pd.concat([win_df, lose_df], axis=0, sort=False)  # Changed `0` to `axis=0`\n"
   ]
  },
  {
   "cell_type": "code",
   "execution_count": 107,
   "id": "52d430fc",
   "metadata": {
    "execution": {
     "iopub.execute_input": "2022-02-25T19:24:52.243273Z",
     "iopub.status.busy": "2022-02-25T19:24:52.242726Z",
     "iopub.status.idle": "2022-02-25T19:24:52.249500Z",
     "shell.execute_reply": "2022-02-25T19:24:52.249995Z",
     "shell.execute_reply.started": "2022-02-25T19:16:01.828713Z"
    },
    "papermill": {
     "duration": 0.08852,
     "end_time": "2022-02-25T19:24:52.250164",
     "exception": false,
     "start_time": "2022-02-25T19:24:52.161644",
     "status": "completed"
    },
    "tags": []
   },
   "outputs": [],
   "source": [
    "# WRITING DF\n",
    "df = add_loosing_matches(df)"
   ]
  },
  {
   "cell_type": "code",
   "execution_count": 108,
   "id": "bc43e7d6",
   "metadata": {
    "execution": {
     "iopub.execute_input": "2022-02-25T19:24:52.421054Z",
     "iopub.status.busy": "2022-02-25T19:24:52.412896Z",
     "iopub.status.idle": "2022-02-25T19:24:52.428488Z",
     "shell.execute_reply": "2022-02-25T19:24:52.429083Z",
     "shell.execute_reply.started": "2022-02-25T19:16:01.849364Z"
    },
    "papermill": {
     "duration": 0.100334,
     "end_time": "2022-02-25T19:24:52.429251",
     "exception": false,
     "start_time": "2022-02-25T19:24:52.328917",
     "status": "completed"
    },
    "tags": []
   },
   "outputs": [
    {
     "data": {
      "text/html": [
       "<div>\n",
       "<style scoped>\n",
       "    .dataframe tbody tr th:only-of-type {\n",
       "        vertical-align: middle;\n",
       "    }\n",
       "\n",
       "    .dataframe tbody tr th {\n",
       "        vertical-align: top;\n",
       "    }\n",
       "\n",
       "    .dataframe thead th {\n",
       "        text-align: right;\n",
       "    }\n",
       "</style>\n",
       "<table border=\"1\" class=\"dataframe\">\n",
       "  <thead>\n",
       "    <tr style=\"text-align: right;\">\n",
       "      <th></th>\n",
       "      <th>Season</th>\n",
       "      <th>DayNum</th>\n",
       "      <th>TeamIdA</th>\n",
       "      <th>ScoreA</th>\n",
       "      <th>TeamIdB</th>\n",
       "      <th>ScoreB</th>\n",
       "      <th>SeedA</th>\n",
       "      <th>SeedB</th>\n",
       "      <th>WinRatioA</th>\n",
       "      <th>GapAvgA</th>\n",
       "      <th>WinRatioB</th>\n",
       "      <th>GapAvgB</th>\n",
       "      <th>538ratingA</th>\n",
       "      <th>538ratingB</th>\n",
       "    </tr>\n",
       "  </thead>\n",
       "  <tbody>\n",
       "    <tr>\n",
       "      <th>0</th>\n",
       "      <td>2016</td>\n",
       "      <td>134</td>\n",
       "      <td>1195</td>\n",
       "      <td>96</td>\n",
       "      <td>1192</td>\n",
       "      <td>65</td>\n",
       "      <td>16</td>\n",
       "      <td>16</td>\n",
       "      <td>0.551724</td>\n",
       "      <td>2.724138</td>\n",
       "      <td>0.548387</td>\n",
       "      <td>-1.677419</td>\n",
       "      <td>71.41</td>\n",
       "      <td>66.72</td>\n",
       "    </tr>\n",
       "    <tr>\n",
       "      <th>1</th>\n",
       "      <td>2016</td>\n",
       "      <td>134</td>\n",
       "      <td>1455</td>\n",
       "      <td>70</td>\n",
       "      <td>1435</td>\n",
       "      <td>50</td>\n",
       "      <td>11</td>\n",
       "      <td>11</td>\n",
       "      <td>0.741935</td>\n",
       "      <td>13.709677</td>\n",
       "      <td>0.593750</td>\n",
       "      <td>9.406250</td>\n",
       "      <td>86.59</td>\n",
       "      <td>85.59</td>\n",
       "    </tr>\n",
       "    <tr>\n",
       "      <th>2</th>\n",
       "      <td>2016</td>\n",
       "      <td>135</td>\n",
       "      <td>1221</td>\n",
       "      <td>59</td>\n",
       "      <td>1380</td>\n",
       "      <td>55</td>\n",
       "      <td>16</td>\n",
       "      <td>16</td>\n",
       "      <td>0.424242</td>\n",
       "      <td>-4.333333</td>\n",
       "      <td>0.612903</td>\n",
       "      <td>1.870968</td>\n",
       "      <td>66.85</td>\n",
       "      <td>67.96</td>\n",
       "    </tr>\n",
       "    <tr>\n",
       "      <th>3</th>\n",
       "      <td>2016</td>\n",
       "      <td>135</td>\n",
       "      <td>1276</td>\n",
       "      <td>67</td>\n",
       "      <td>1409</td>\n",
       "      <td>62</td>\n",
       "      <td>11</td>\n",
       "      <td>11</td>\n",
       "      <td>0.636364</td>\n",
       "      <td>6.242424</td>\n",
       "      <td>0.645161</td>\n",
       "      <td>4.322581</td>\n",
       "      <td>79.57</td>\n",
       "      <td>79.93</td>\n",
       "    </tr>\n",
       "    <tr>\n",
       "      <th>4</th>\n",
       "      <td>2016</td>\n",
       "      <td>136</td>\n",
       "      <td>1114</td>\n",
       "      <td>85</td>\n",
       "      <td>1345</td>\n",
       "      <td>83</td>\n",
       "      <td>12</td>\n",
       "      <td>5</td>\n",
       "      <td>0.870968</td>\n",
       "      <td>9.935484</td>\n",
       "      <td>0.764706</td>\n",
       "      <td>13.147059</td>\n",
       "      <td>78.90</td>\n",
       "      <td>88.68</td>\n",
       "    </tr>\n",
       "  </tbody>\n",
       "</table>\n",
       "</div>"
      ],
      "text/plain": [
       "   Season  DayNum  TeamIdA  ScoreA  TeamIdB  ScoreB  SeedA  SeedB  WinRatioA  \\\n",
       "0    2016     134     1195      96     1192      65     16     16   0.551724   \n",
       "1    2016     134     1455      70     1435      50     11     11   0.741935   \n",
       "2    2016     135     1221      59     1380      55     16     16   0.424242   \n",
       "3    2016     135     1276      67     1409      62     11     11   0.636364   \n",
       "4    2016     136     1114      85     1345      83     12      5   0.870968   \n",
       "\n",
       "     GapAvgA  WinRatioB    GapAvgB  538ratingA  538ratingB  \n",
       "0   2.724138   0.548387  -1.677419       71.41       66.72  \n",
       "1  13.709677   0.593750   9.406250       86.59       85.59  \n",
       "2  -4.333333   0.612903   1.870968       66.85       67.96  \n",
       "3   6.242424   0.645161   4.322581       79.57       79.93  \n",
       "4   9.935484   0.764706  13.147059       78.90       88.68  "
      ]
     },
     "execution_count": 108,
     "metadata": {},
     "output_type": "execute_result"
    }
   ],
   "source": [
    "df.head()"
   ]
  },
  {
   "cell_type": "markdown",
   "id": "ba066a3d",
   "metadata": {
    "papermill": {
     "duration": 0.07929,
     "end_time": "2022-02-25T19:24:52.590038",
     "exception": false,
     "start_time": "2022-02-25T19:24:52.510748",
     "status": "completed"
    },
    "tags": []
   },
   "source": [
    "### Differences\n",
    "- We compute the difference between the team for each feature.\n",
    "- This helps further assessing how better (or worse) team A is from team B"
   ]
  },
  {
   "cell_type": "code",
   "execution_count": 109,
   "id": "c58bf04e",
   "metadata": {
    "execution": {
     "iopub.execute_input": "2022-02-25T19:24:52.760264Z",
     "iopub.status.busy": "2022-02-25T19:24:52.759634Z",
     "iopub.status.idle": "2022-02-25T19:24:52.761824Z",
     "shell.execute_reply": "2022-02-25T19:24:52.762255Z",
     "shell.execute_reply.started": "2022-02-25T19:16:01.884750Z"
    },
    "papermill": {
     "duration": 0.091577,
     "end_time": "2022-02-25T19:24:52.762452",
     "exception": false,
     "start_time": "2022-02-25T19:24:52.670875",
     "status": "completed"
    },
    "tags": []
   },
   "outputs": [],
   "source": [
    "cols_to_diff = [\n",
    "    'Seed', 'WinRatio', 'GapAvg', '538rating'\n",
    "]\n",
    "\n",
    "for col in cols_to_diff:\n",
    "    df[col + 'Diff'] = df[col + 'A'] - df[col + 'B']"
   ]
  },
  {
   "cell_type": "markdown",
   "id": "07942558",
   "metadata": {
    "papermill": {
     "duration": 0.081156,
     "end_time": "2022-02-25T19:24:52.923612",
     "exception": false,
     "start_time": "2022-02-25T19:24:52.842456",
     "status": "completed"
    },
    "tags": []
   },
   "source": [
    "## Test Data"
   ]
  },
  {
   "cell_type": "markdown",
   "id": "b6188e2a",
   "metadata": {
    "papermill": {
     "duration": 0.082519,
     "end_time": "2022-02-25T19:24:53.088318",
     "exception": false,
     "start_time": "2022-02-25T19:24:53.005799",
     "status": "completed"
    },
    "tags": []
   },
   "source": [
    "### Preparing"
   ]
  },
  {
   "cell_type": "code",
   "execution_count": 110,
   "id": "0d3647e0",
   "metadata": {
    "execution": {
     "iopub.execute_input": "2022-02-25T19:24:53.257030Z",
     "iopub.status.busy": "2022-02-25T19:24:53.256404Z",
     "iopub.status.idle": "2022-02-25T19:24:53.274930Z",
     "shell.execute_reply": "2022-02-25T19:24:53.275517Z",
     "shell.execute_reply.started": "2022-02-25T19:16:01.900859Z"
    },
    "papermill": {
     "duration": 0.104781,
     "end_time": "2022-02-25T19:24:53.275687",
     "exception": false,
     "start_time": "2022-02-25T19:24:53.170906",
     "status": "completed"
    },
    "tags": []
   },
   "outputs": [],
   "source": [
    "df_test = pd.read_csv(DATA_PATH + \"MSampleSubmissionStage1.csv\")"
   ]
  },
  {
   "cell_type": "code",
   "execution_count": 111,
   "id": "0aa5bd1a",
   "metadata": {
    "execution": {
     "iopub.execute_input": "2022-02-25T19:24:53.484813Z",
     "iopub.status.busy": "2022-02-25T19:24:53.460062Z",
     "iopub.status.idle": "2022-02-25T19:24:53.488571Z",
     "shell.execute_reply": "2022-02-25T19:24:53.488073Z",
     "shell.execute_reply.started": "2022-02-25T19:16:01.936834Z"
    },
    "papermill": {
     "duration": 0.131045,
     "end_time": "2022-02-25T19:24:53.488713",
     "exception": false,
     "start_time": "2022-02-25T19:24:53.357668",
     "status": "completed"
    },
    "tags": []
   },
   "outputs": [],
   "source": [
    "df_test['Season'] = df_test['ID'].apply(lambda x: int(x.split('_')[0]))\n",
    "df_test['TeamIdA'] = df_test['ID'].apply(lambda x: int(x.split('_')[1]))\n",
    "df_test['TeamIdB'] = df_test['ID'].apply(lambda x: int(x.split('_')[2]))"
   ]
  },
  {
   "cell_type": "code",
   "execution_count": 112,
   "id": "e55c2969",
   "metadata": {
    "execution": {
     "iopub.execute_input": "2022-02-25T19:24:53.651023Z",
     "iopub.status.busy": "2022-02-25T19:24:53.650477Z",
     "iopub.status.idle": "2022-02-25T19:24:53.663242Z",
     "shell.execute_reply": "2022-02-25T19:24:53.662733Z",
     "shell.execute_reply.started": "2022-02-25T19:16:01.987510Z"
    },
    "papermill": {
     "duration": 0.094279,
     "end_time": "2022-02-25T19:24:53.663389",
     "exception": false,
     "start_time": "2022-02-25T19:24:53.569110",
     "status": "completed"
    },
    "tags": []
   },
   "outputs": [
    {
     "data": {
      "text/html": [
       "<div>\n",
       "<style scoped>\n",
       "    .dataframe tbody tr th:only-of-type {\n",
       "        vertical-align: middle;\n",
       "    }\n",
       "\n",
       "    .dataframe tbody tr th {\n",
       "        vertical-align: top;\n",
       "    }\n",
       "\n",
       "    .dataframe thead th {\n",
       "        text-align: right;\n",
       "    }\n",
       "</style>\n",
       "<table border=\"1\" class=\"dataframe\">\n",
       "  <thead>\n",
       "    <tr style=\"text-align: right;\">\n",
       "      <th></th>\n",
       "      <th>ID</th>\n",
       "      <th>Pred</th>\n",
       "      <th>Season</th>\n",
       "      <th>TeamIdA</th>\n",
       "      <th>TeamIdB</th>\n",
       "    </tr>\n",
       "  </thead>\n",
       "  <tbody>\n",
       "    <tr>\n",
       "      <th>0</th>\n",
       "      <td>2016_1112_1114</td>\n",
       "      <td>0.5</td>\n",
       "      <td>2016</td>\n",
       "      <td>1112</td>\n",
       "      <td>1114</td>\n",
       "    </tr>\n",
       "    <tr>\n",
       "      <th>1</th>\n",
       "      <td>2016_1112_1122</td>\n",
       "      <td>0.5</td>\n",
       "      <td>2016</td>\n",
       "      <td>1112</td>\n",
       "      <td>1122</td>\n",
       "    </tr>\n",
       "    <tr>\n",
       "      <th>2</th>\n",
       "      <td>2016_1112_1124</td>\n",
       "      <td>0.5</td>\n",
       "      <td>2016</td>\n",
       "      <td>1112</td>\n",
       "      <td>1124</td>\n",
       "    </tr>\n",
       "    <tr>\n",
       "      <th>3</th>\n",
       "      <td>2016_1112_1138</td>\n",
       "      <td>0.5</td>\n",
       "      <td>2016</td>\n",
       "      <td>1112</td>\n",
       "      <td>1138</td>\n",
       "    </tr>\n",
       "    <tr>\n",
       "      <th>4</th>\n",
       "      <td>2016_1112_1139</td>\n",
       "      <td>0.5</td>\n",
       "      <td>2016</td>\n",
       "      <td>1112</td>\n",
       "      <td>1139</td>\n",
       "    </tr>\n",
       "  </tbody>\n",
       "</table>\n",
       "</div>"
      ],
      "text/plain": [
       "               ID  Pred  Season  TeamIdA  TeamIdB\n",
       "0  2016_1112_1114   0.5    2016     1112     1114\n",
       "1  2016_1112_1122   0.5    2016     1112     1122\n",
       "2  2016_1112_1124   0.5    2016     1112     1124\n",
       "3  2016_1112_1138   0.5    2016     1112     1138\n",
       "4  2016_1112_1139   0.5    2016     1112     1139"
      ]
     },
     "execution_count": 112,
     "metadata": {},
     "output_type": "execute_result"
    }
   ],
   "source": [
    "df_test.head()"
   ]
  },
  {
   "cell_type": "markdown",
   "id": "2455aa87",
   "metadata": {
    "papermill": {
     "duration": 0.079625,
     "end_time": "2022-02-25T19:24:53.824638",
     "exception": false,
     "start_time": "2022-02-25T19:24:53.745013",
     "status": "completed"
    },
    "tags": []
   },
   "source": [
    "### Seeds"
   ]
  },
  {
   "cell_type": "code",
   "execution_count": 113,
   "id": "1f959d03",
   "metadata": {
    "execution": {
     "iopub.execute_input": "2022-02-25T19:24:53.996496Z",
     "iopub.status.busy": "2022-02-25T19:24:53.995785Z",
     "iopub.status.idle": "2022-02-25T19:24:54.003866Z",
     "shell.execute_reply": "2022-02-25T19:24:54.004347Z",
     "shell.execute_reply.started": "2022-02-25T19:16:02.002336Z"
    },
    "papermill": {
     "duration": 0.098431,
     "end_time": "2022-02-25T19:24:54.004514",
     "exception": false,
     "start_time": "2022-02-25T19:24:53.906083",
     "status": "completed"
    },
    "tags": []
   },
   "outputs": [],
   "source": [
    "df_test = pd.merge(\n",
    "    df_test,\n",
    "    df_seeds,\n",
    "    how='left',\n",
    "    left_on=['Season', 'TeamIdA'],\n",
    "    right_on=['Season', 'TeamID']\n",
    ").drop('TeamID', axis=1).rename(columns={'Seed': 'SeedA'})"
   ]
  },
  {
   "cell_type": "code",
   "execution_count": 114,
   "id": "e69e4b0a",
   "metadata": {
    "execution": {
     "iopub.execute_input": "2022-02-25T19:24:54.170289Z",
     "iopub.status.busy": "2022-02-25T19:24:54.169504Z",
     "iopub.status.idle": "2022-02-25T19:24:54.181550Z",
     "shell.execute_reply": "2022-02-25T19:24:54.182036Z",
     "shell.execute_reply.started": "2022-02-25T19:16:02.029794Z"
    },
    "papermill": {
     "duration": 0.095495,
     "end_time": "2022-02-25T19:24:54.182199",
     "exception": false,
     "start_time": "2022-02-25T19:24:54.086704",
     "status": "completed"
    },
    "tags": []
   },
   "outputs": [],
   "source": [
    "df_test = pd.merge(\n",
    "    df_test, \n",
    "    df_seeds, \n",
    "    how='left', \n",
    "    left_on=['Season', 'TeamIdB'], \n",
    "    right_on=['Season', 'TeamID']\n",
    ").drop('TeamID', axis=1).rename(columns={'Seed': 'SeedB'})"
   ]
  },
  {
   "cell_type": "code",
   "execution_count": 115,
   "id": "902045d4",
   "metadata": {
    "execution": {
     "iopub.execute_input": "2022-02-25T19:24:54.348603Z",
     "iopub.status.busy": "2022-02-25T19:24:54.348001Z",
     "iopub.status.idle": "2022-02-25T19:24:54.412319Z",
     "shell.execute_reply": "2022-02-25T19:24:54.411767Z",
     "shell.execute_reply.started": "2022-02-25T19:16:02.048983Z"
    },
    "papermill": {
     "duration": 0.147913,
     "end_time": "2022-02-25T19:24:54.412468",
     "exception": false,
     "start_time": "2022-02-25T19:24:54.264555",
     "status": "completed"
    },
    "tags": []
   },
   "outputs": [],
   "source": [
    "df_test['SeedA'] = df_test['SeedA'].apply(treat_seed)\n",
    "df_test['SeedB'] = df_test['SeedB'].apply(treat_seed)"
   ]
  },
  {
   "cell_type": "markdown",
   "id": "b975d564",
   "metadata": {
    "papermill": {
     "duration": 0.080797,
     "end_time": "2022-02-25T19:24:54.576105",
     "exception": false,
     "start_time": "2022-02-25T19:24:54.495308",
     "status": "completed"
    },
    "tags": []
   },
   "source": [
    "### Season Stats"
   ]
  },
  {
   "cell_type": "code",
   "execution_count": 116,
   "id": "c42e0830",
   "metadata": {
    "execution": {
     "iopub.execute_input": "2022-02-25T19:24:54.780080Z",
     "iopub.status.busy": "2022-02-25T19:24:54.779428Z",
     "iopub.status.idle": "2022-02-25T19:24:54.788667Z",
     "shell.execute_reply": "2022-02-25T19:24:54.789210Z",
     "shell.execute_reply.started": "2022-02-25T19:16:02.123180Z"
    },
    "papermill": {
     "duration": 0.130771,
     "end_time": "2022-02-25T19:24:54.789379",
     "exception": false,
     "start_time": "2022-02-25T19:24:54.658608",
     "status": "completed"
    },
    "tags": []
   },
   "outputs": [],
   "source": [
    "df_test = pd.merge(\n",
    "    df_test,\n",
    "    df_features_season,\n",
    "    how='left',\n",
    "    left_on=['Season', 'TeamIdA'],\n",
    "    right_on=['Season', 'TeamID']\n",
    ").rename(columns={\n",
    "    'NumWins': 'NumWinsA',\n",
    "    'NumLosses': 'NumLossesA',\n",
    "    'GapWins': 'GapWinsA',\n",
    "    'GapLosses': 'GapLossesA',\n",
    "    'WinRatio': 'WinRatioA',\n",
    "    'GapAvg': 'GapAvgA',\n",
    "}).drop(columns='TeamID', axis=1)"
   ]
  },
  {
   "cell_type": "code",
   "execution_count": 117,
   "id": "b49d7fed",
   "metadata": {
    "execution": {
     "iopub.execute_input": "2022-02-25T19:24:54.959434Z",
     "iopub.status.busy": "2022-02-25T19:24:54.958783Z",
     "iopub.status.idle": "2022-02-25T19:24:54.971884Z",
     "shell.execute_reply": "2022-02-25T19:24:54.972370Z",
     "shell.execute_reply.started": "2022-02-25T19:16:02.147042Z"
    },
    "papermill": {
     "duration": 0.101794,
     "end_time": "2022-02-25T19:24:54.972541",
     "exception": false,
     "start_time": "2022-02-25T19:24:54.870747",
     "status": "completed"
    },
    "tags": []
   },
   "outputs": [],
   "source": [
    "df_test = pd.merge(\n",
    "    df_test,\n",
    "    df_features_season,\n",
    "    how='left',\n",
    "    left_on=['Season', 'TeamIdB'],\n",
    "    right_on=['Season', 'TeamID']\n",
    ").rename(columns={\n",
    "    'NumWins': 'NumWinsB',\n",
    "    'NumLosses': 'NumLossesB',\n",
    "    'GapWins': 'GapWinsB',\n",
    "    'GapLosses': 'GapLossesB',\n",
    "    'WinRatio': 'WinRatioB',\n",
    "    'GapAvg': 'GapAvgB',\n",
    "}).drop(columns='TeamID', axis=1)"
   ]
  },
  {
   "cell_type": "markdown",
   "id": "52f16020",
   "metadata": {
    "papermill": {
     "duration": 0.081398,
     "end_time": "2022-02-25T19:24:55.135113",
     "exception": false,
     "start_time": "2022-02-25T19:24:55.053715",
     "status": "completed"
    },
    "tags": []
   },
   "source": [
    "### Ratings"
   ]
  },
  {
   "cell_type": "code",
   "execution_count": 118,
   "id": "303059e1",
   "metadata": {
    "execution": {
     "iopub.execute_input": "2022-02-25T19:24:55.304403Z",
     "iopub.status.busy": "2022-02-25T19:24:55.303438Z",
     "iopub.status.idle": "2022-02-25T19:24:55.312455Z",
     "shell.execute_reply": "2022-02-25T19:24:55.311796Z",
     "shell.execute_reply.started": "2022-02-25T19:16:02.165655Z"
    },
    "papermill": {
     "duration": 0.096184,
     "end_time": "2022-02-25T19:24:55.312582",
     "exception": false,
     "start_time": "2022-02-25T19:24:55.216398",
     "status": "completed"
    },
    "tags": []
   },
   "outputs": [],
   "source": [
    "df_test = pd.merge(\n",
    "    df_test,\n",
    "    df_538,\n",
    "    how='left',\n",
    "    left_on=['Season', 'TeamIdA'],\n",
    "    right_on=['Season', 'TeamID']\n",
    ").drop('TeamID', axis=1).rename(columns={'538rating': '538ratingA'})"
   ]
  },
  {
   "cell_type": "code",
   "execution_count": 119,
   "id": "8a63679f",
   "metadata": {
    "execution": {
     "iopub.execute_input": "2022-02-25T19:24:55.482505Z",
     "iopub.status.busy": "2022-02-25T19:24:55.481546Z",
     "iopub.status.idle": "2022-02-25T19:24:55.489954Z",
     "shell.execute_reply": "2022-02-25T19:24:55.490471Z",
     "shell.execute_reply.started": "2022-02-25T19:16:02.183703Z"
    },
    "papermill": {
     "duration": 0.098851,
     "end_time": "2022-02-25T19:24:55.490645",
     "exception": false,
     "start_time": "2022-02-25T19:24:55.391794",
     "status": "completed"
    },
    "tags": []
   },
   "outputs": [],
   "source": [
    "df_test = pd.merge(\n",
    "    df_test,\n",
    "    df_538,\n",
    "    how='left',\n",
    "    left_on=['Season', 'TeamIdB'],\n",
    "    right_on=['Season', 'TeamID']\n",
    ").drop('TeamID', axis=1).rename(columns={'538rating': '538ratingB'})"
   ]
  },
  {
   "cell_type": "markdown",
   "id": "ec44d719",
   "metadata": {
    "papermill": {
     "duration": 0.080145,
     "end_time": "2022-02-25T19:24:55.651626",
     "exception": false,
     "start_time": "2022-02-25T19:24:55.571481",
     "status": "completed"
    },
    "tags": []
   },
   "source": [
    "### Differences"
   ]
  },
  {
   "cell_type": "code",
   "execution_count": 120,
   "id": "3762d149",
   "metadata": {
    "execution": {
     "iopub.execute_input": "2022-02-25T19:24:55.821900Z",
     "iopub.status.busy": "2022-02-25T19:24:55.820693Z",
     "iopub.status.idle": "2022-02-25T19:24:55.826940Z",
     "shell.execute_reply": "2022-02-25T19:24:55.826334Z",
     "shell.execute_reply.started": "2022-02-25T19:16:02.203169Z"
    },
    "papermill": {
     "duration": 0.093307,
     "end_time": "2022-02-25T19:24:55.827104",
     "exception": false,
     "start_time": "2022-02-25T19:24:55.733797",
     "status": "completed"
    },
    "tags": []
   },
   "outputs": [],
   "source": [
    "for col in cols_to_diff:\n",
    "    df_test[col + 'Diff'] = df_test[col + 'A'] - df_test[col + 'B']"
   ]
  },
  {
   "cell_type": "code",
   "execution_count": 121,
   "id": "9c37922a",
   "metadata": {
    "execution": {
     "iopub.execute_input": "2022-02-25T19:24:56.011673Z",
     "iopub.status.busy": "2022-02-25T19:24:56.011022Z",
     "iopub.status.idle": "2022-02-25T19:24:56.013740Z",
     "shell.execute_reply": "2022-02-25T19:24:56.014260Z",
     "shell.execute_reply.started": "2022-02-25T19:16:02.216780Z"
    },
    "papermill": {
     "duration": 0.104506,
     "end_time": "2022-02-25T19:24:56.014422",
     "exception": false,
     "start_time": "2022-02-25T19:24:55.909916",
     "status": "completed"
    },
    "tags": []
   },
   "outputs": [
    {
     "data": {
      "text/html": [
       "<div>\n",
       "<style scoped>\n",
       "    .dataframe tbody tr th:only-of-type {\n",
       "        vertical-align: middle;\n",
       "    }\n",
       "\n",
       "    .dataframe tbody tr th {\n",
       "        vertical-align: top;\n",
       "    }\n",
       "\n",
       "    .dataframe thead th {\n",
       "        text-align: right;\n",
       "    }\n",
       "</style>\n",
       "<table border=\"1\" class=\"dataframe\">\n",
       "  <thead>\n",
       "    <tr style=\"text-align: right;\">\n",
       "      <th></th>\n",
       "      <th>ID</th>\n",
       "      <th>Pred</th>\n",
       "      <th>Season</th>\n",
       "      <th>TeamIdA</th>\n",
       "      <th>TeamIdB</th>\n",
       "      <th>SeedA</th>\n",
       "      <th>SeedB</th>\n",
       "      <th>WinRatioA</th>\n",
       "      <th>GapAvgA</th>\n",
       "      <th>WinRatioB</th>\n",
       "      <th>GapAvgB</th>\n",
       "      <th>538ratingA</th>\n",
       "      <th>538ratingB</th>\n",
       "      <th>SeedDiff</th>\n",
       "      <th>WinRatioDiff</th>\n",
       "      <th>GapAvgDiff</th>\n",
       "      <th>538ratingDiff</th>\n",
       "    </tr>\n",
       "  </thead>\n",
       "  <tbody>\n",
       "    <tr>\n",
       "      <th>0</th>\n",
       "      <td>2016_1112_1114</td>\n",
       "      <td>0.5</td>\n",
       "      <td>2016</td>\n",
       "      <td>1112</td>\n",
       "      <td>1114</td>\n",
       "      <td>6</td>\n",
       "      <td>12</td>\n",
       "      <td>0.757576</td>\n",
       "      <td>12.212121</td>\n",
       "      <td>0.870968</td>\n",
       "      <td>9.935484</td>\n",
       "      <td>89.04</td>\n",
       "      <td>78.90</td>\n",
       "      <td>-6</td>\n",
       "      <td>-0.113392</td>\n",
       "      <td>2.276637</td>\n",
       "      <td>10.14</td>\n",
       "    </tr>\n",
       "    <tr>\n",
       "      <th>1</th>\n",
       "      <td>2016_1112_1122</td>\n",
       "      <td>0.5</td>\n",
       "      <td>2016</td>\n",
       "      <td>1112</td>\n",
       "      <td>1122</td>\n",
       "      <td>6</td>\n",
       "      <td>16</td>\n",
       "      <td>0.757576</td>\n",
       "      <td>12.212121</td>\n",
       "      <td>0.484848</td>\n",
       "      <td>-2.363636</td>\n",
       "      <td>89.04</td>\n",
       "      <td>68.83</td>\n",
       "      <td>-10</td>\n",
       "      <td>0.272727</td>\n",
       "      <td>14.575758</td>\n",
       "      <td>20.21</td>\n",
       "    </tr>\n",
       "    <tr>\n",
       "      <th>2</th>\n",
       "      <td>2016_1112_1124</td>\n",
       "      <td>0.5</td>\n",
       "      <td>2016</td>\n",
       "      <td>1112</td>\n",
       "      <td>1124</td>\n",
       "      <td>6</td>\n",
       "      <td>5</td>\n",
       "      <td>0.757576</td>\n",
       "      <td>12.212121</td>\n",
       "      <td>0.656250</td>\n",
       "      <td>6.687500</td>\n",
       "      <td>89.04</td>\n",
       "      <td>85.47</td>\n",
       "      <td>1</td>\n",
       "      <td>0.101326</td>\n",
       "      <td>5.524621</td>\n",
       "      <td>3.57</td>\n",
       "    </tr>\n",
       "    <tr>\n",
       "      <th>3</th>\n",
       "      <td>2016_1112_1138</td>\n",
       "      <td>0.5</td>\n",
       "      <td>2016</td>\n",
       "      <td>1112</td>\n",
       "      <td>1138</td>\n",
       "      <td>6</td>\n",
       "      <td>14</td>\n",
       "      <td>0.757576</td>\n",
       "      <td>12.212121</td>\n",
       "      <td>0.575758</td>\n",
       "      <td>0.666667</td>\n",
       "      <td>89.04</td>\n",
       "      <td>75.66</td>\n",
       "      <td>-8</td>\n",
       "      <td>0.181818</td>\n",
       "      <td>11.545455</td>\n",
       "      <td>13.38</td>\n",
       "    </tr>\n",
       "    <tr>\n",
       "      <th>4</th>\n",
       "      <td>2016_1112_1139</td>\n",
       "      <td>0.5</td>\n",
       "      <td>2016</td>\n",
       "      <td>1112</td>\n",
       "      <td>1139</td>\n",
       "      <td>6</td>\n",
       "      <td>9</td>\n",
       "      <td>0.757576</td>\n",
       "      <td>12.212121</td>\n",
       "      <td>0.677419</td>\n",
       "      <td>9.419355</td>\n",
       "      <td>89.04</td>\n",
       "      <td>84.17</td>\n",
       "      <td>-3</td>\n",
       "      <td>0.080156</td>\n",
       "      <td>2.792766</td>\n",
       "      <td>4.87</td>\n",
       "    </tr>\n",
       "  </tbody>\n",
       "</table>\n",
       "</div>"
      ],
      "text/plain": [
       "               ID  Pred  Season  TeamIdA  TeamIdB  SeedA  SeedB  WinRatioA  \\\n",
       "0  2016_1112_1114   0.5    2016     1112     1114      6     12   0.757576   \n",
       "1  2016_1112_1122   0.5    2016     1112     1122      6     16   0.757576   \n",
       "2  2016_1112_1124   0.5    2016     1112     1124      6      5   0.757576   \n",
       "3  2016_1112_1138   0.5    2016     1112     1138      6     14   0.757576   \n",
       "4  2016_1112_1139   0.5    2016     1112     1139      6      9   0.757576   \n",
       "\n",
       "     GapAvgA  WinRatioB   GapAvgB  538ratingA  538ratingB  SeedDiff  \\\n",
       "0  12.212121   0.870968  9.935484       89.04       78.90        -6   \n",
       "1  12.212121   0.484848 -2.363636       89.04       68.83       -10   \n",
       "2  12.212121   0.656250  6.687500       89.04       85.47         1   \n",
       "3  12.212121   0.575758  0.666667       89.04       75.66        -8   \n",
       "4  12.212121   0.677419  9.419355       89.04       84.17        -3   \n",
       "\n",
       "   WinRatioDiff  GapAvgDiff  538ratingDiff  \n",
       "0     -0.113392    2.276637          10.14  \n",
       "1      0.272727   14.575758          20.21  \n",
       "2      0.101326    5.524621           3.57  \n",
       "3      0.181818   11.545455          13.38  \n",
       "4      0.080156    2.792766           4.87  "
      ]
     },
     "execution_count": 121,
     "metadata": {},
     "output_type": "execute_result"
    }
   ],
   "source": [
    "df_test.head()"
   ]
  },
  {
   "cell_type": "markdown",
   "id": "b0be31d2",
   "metadata": {
    "papermill": {
     "duration": 0.081221,
     "end_time": "2022-02-25T19:24:56.179012",
     "exception": false,
     "start_time": "2022-02-25T19:24:56.097791",
     "status": "completed"
    },
    "tags": []
   },
   "source": [
    "## Target"
   ]
  },
  {
   "cell_type": "code",
   "execution_count": 122,
   "id": "d0c8fdb8",
   "metadata": {
    "execution": {
     "iopub.execute_input": "2022-02-25T19:24:56.346084Z",
     "iopub.status.busy": "2022-02-25T19:24:56.345469Z",
     "iopub.status.idle": "2022-02-25T19:24:56.352329Z",
     "shell.execute_reply": "2022-02-25T19:24:56.351727Z",
     "shell.execute_reply.started": "2022-02-25T19:16:02.246270Z"
    },
    "papermill": {
     "duration": 0.091844,
     "end_time": "2022-02-25T19:24:56.352459",
     "exception": false,
     "start_time": "2022-02-25T19:24:56.260615",
     "status": "completed"
    },
    "tags": []
   },
   "outputs": [],
   "source": [
    "df['ScoreDiff'] = df['ScoreA'] - df['ScoreB']\n",
    "df['WinA'] = (df['ScoreDiff'] > 0).astype(int)"
   ]
  },
  {
   "cell_type": "markdown",
   "id": "4bbf27e3",
   "metadata": {
    "papermill": {
     "duration": 0.081095,
     "end_time": "2022-02-25T19:24:56.515487",
     "exception": false,
     "start_time": "2022-02-25T19:24:56.434392",
     "status": "completed"
    },
    "tags": []
   },
   "source": [
    "# Modeling"
   ]
  },
  {
   "cell_type": "code",
   "execution_count": 123,
   "id": "a83eeb87",
   "metadata": {
    "execution": {
     "iopub.execute_input": "2022-02-25T19:24:56.683359Z",
     "iopub.status.busy": "2022-02-25T19:24:56.682755Z",
     "iopub.status.idle": "2022-02-25T19:24:56.685417Z",
     "shell.execute_reply": "2022-02-25T19:24:56.684909Z",
     "shell.execute_reply.started": "2022-02-25T19:16:02.265297Z"
    },
    "papermill": {
     "duration": 0.088664,
     "end_time": "2022-02-25T19:24:56.685549",
     "exception": false,
     "start_time": "2022-02-25T19:24:56.596885",
     "status": "completed"
    },
    "tags": []
   },
   "outputs": [],
   "source": [
    "features = [\n",
    "    'SeedDiff',\n",
    "    '538ratingDiff',\n",
    "    'WinRatioDiff', \n",
    "    'GapAvgDiff', \n",
    "]"
   ]
  },
  {
   "cell_type": "code",
   "execution_count": 124,
   "id": "b99ff0fe",
   "metadata": {
    "execution": {
     "iopub.execute_input": "2022-02-25T19:24:56.856870Z",
     "iopub.status.busy": "2022-02-25T19:24:56.856257Z",
     "iopub.status.idle": "2022-02-25T19:24:56.859159Z",
     "shell.execute_reply": "2022-02-25T19:24:56.858647Z",
     "shell.execute_reply.started": "2022-02-25T19:16:02.278401Z"
    },
    "papermill": {
     "duration": 0.092196,
     "end_time": "2022-02-25T19:24:56.859301",
     "exception": false,
     "start_time": "2022-02-25T19:24:56.767105",
     "status": "completed"
    },
    "tags": []
   },
   "outputs": [],
   "source": [
    "def rescale(features, df_train, df_val, df_test=None):\n",
    "    min_ = df_train[features].min()\n",
    "    max_ = df_train[features].max()\n",
    "    \n",
    "    df_train[features] = (df_train[features] - min_) / (max_ - min_)\n",
    "    df_val[features] = (df_val[features] - min_) / (max_ - min_)\n",
    "    \n",
    "    if df_test is not None:\n",
    "        df_test[features] = (df_test[features] - min_) / (max_ - min_)\n",
    "        \n",
    "    return df_train, df_val, df_test"
   ]
  },
  {
   "cell_type": "markdown",
   "id": "0f6ca276",
   "metadata": {
    "papermill": {
     "duration": 0.082561,
     "end_time": "2022-02-25T19:24:57.024985",
     "exception": false,
     "start_time": "2022-02-25T19:24:56.942424",
     "status": "completed"
    },
    "tags": []
   },
   "source": [
    "### Cross Validation\n",
    "- Validate on season `n`, for `n` in the 3 last seasons. \n",
    "- Train on earlier seasons. First available season is 2016 because of the FiveThirtyEight ratings.\n",
    "- Pipeline support classification (predict the team that wins) and regression (predict the score gap), but classification worked better on CV."
   ]
  },
  {
   "cell_type": "code",
   "execution_count": 125,
   "id": "be1b53c2",
   "metadata": {
    "execution": {
     "iopub.execute_input": "2022-02-25T19:24:57.207188Z",
     "iopub.status.busy": "2022-02-25T19:24:57.206517Z",
     "iopub.status.idle": "2022-02-25T19:24:57.209372Z",
     "shell.execute_reply": "2022-02-25T19:24:57.208827Z",
     "shell.execute_reply.started": "2022-02-25T19:16:02.297290Z"
    },
    "papermill": {
     "duration": 0.100469,
     "end_time": "2022-02-25T19:24:57.209507",
     "exception": false,
     "start_time": "2022-02-25T19:24:57.109038",
     "status": "completed"
    },
    "tags": []
   },
   "outputs": [],
   "source": [
    "def kfold(df, df_test_=None, plot=False, verbose=0, mode=\"reg\"):\n",
    "    seasons = df['Season'].unique()\n",
    "    cvs = []\n",
    "    pred_tests = []\n",
    "    target = \"ScoreDiff\" if mode == \"reg\" else \"WinA\"\n",
    "    \n",
    "    for season in seasons[1:]:\n",
    "        if verbose:\n",
    "            print(f'\\nValidating on season {season}')\n",
    "        \n",
    "        df_train = df[df['Season'] < season].reset_index(drop=True).copy()\n",
    "        df_val = df[df['Season'] == season].reset_index(drop=True).copy()\n",
    "        df_test = df_test_.copy()\n",
    "        \n",
    "        df_train, df_val, df_test = rescale(features, df_train, df_val, df_test)\n",
    "        \n",
    "        if mode == \"reg\":\n",
    "            model = ElasticNet(alpha=1, l1_ratio=0.5)\n",
    "        else:\n",
    "            model = LogisticRegression(C=100)\n",
    "\n",
    "        model.fit(df_train[features], df_train[target])\n",
    "        \n",
    "        if mode == \"reg\":\n",
    "            pred = model.predict(df_val[features])\n",
    "            pred = (pred - pred.min()) / (pred.max() - pred.min())\n",
    "        else:\n",
    "            pred = model.predict_proba(df_val[features])[:, 1]\n",
    "        \n",
    "        if df_test is not None:\n",
    "            if mode == \"reg\":\n",
    "                pred_test = model.predict(df_test[features])\n",
    "                pred_test = (pred_test - pred_test.min()) / (pred_test.max() - pred_test.min())\n",
    "            else:\n",
    "                pred_test = model.predict_proba(df_test[features])[:, 1]\n",
    "                \n",
    "            pred_tests.append(pred_test)\n",
    "            \n",
    "        if plot:\n",
    "            plt.figure(figsize=(15, 6))\n",
    "            plt.subplot(1, 2, 1)\n",
    "            plt.scatter(pred, df_val['ScoreDiff'].values, s=5)\n",
    "            plt.grid(True)\n",
    "            plt.subplot(1, 2, 2)\n",
    "            sns.histplot(pred)\n",
    "            plt.show()\n",
    "        \n",
    "        loss = log_loss(df_val['WinA'].values, pred)\n",
    "        cvs.append(loss)\n",
    "\n",
    "        if verbose:\n",
    "            print(f'\\t -> Scored {loss:.3f}')\n",
    "        \n",
    "    print(f'\\n Local CV is {np.mean(cvs):.3f}')\n",
    "    \n",
    "    return pred_tests"
   ]
  },
  {
   "cell_type": "code",
   "execution_count": 126,
   "id": "0da42a34",
   "metadata": {
    "execution": {
     "iopub.execute_input": "2022-02-25T19:24:57.379644Z",
     "iopub.status.busy": "2022-02-25T19:24:57.378948Z",
     "iopub.status.idle": "2022-02-25T19:24:57.555434Z",
     "shell.execute_reply": "2022-02-25T19:24:57.556393Z",
     "shell.execute_reply.started": "2022-02-25T19:16:02.318198Z"
    },
    "papermill": {
     "duration": 0.265029,
     "end_time": "2022-02-25T19:24:57.556670",
     "exception": false,
     "start_time": "2022-02-25T19:24:57.291641",
     "status": "completed"
    },
    "tags": []
   },
   "outputs": [
    {
     "name": "stdout",
     "output_type": "stream",
     "text": [
      "\n",
      "Validating on season 2017\n",
      "\t -> Scored 0.544\n",
      "\n",
      "Validating on season 2018\n",
      "\t -> Scored 0.594\n",
      "\n",
      "Validating on season 2019\n",
      "\t -> Scored 0.472\n",
      "\n",
      "Validating on season 2021\n",
      "\t -> Scored 0.619\n",
      "\n",
      " Local CV is 0.557\n"
     ]
    }
   ],
   "source": [
    "pred_tests = kfold(df, df_test, plot=False, verbose=1, mode=\"cls\")"
   ]
  },
  {
   "cell_type": "code",
   "execution_count": 127,
   "id": "efc50341",
   "metadata": {
    "execution": {
     "iopub.execute_input": "2022-02-25T19:24:57.778363Z",
     "iopub.status.busy": "2022-02-25T19:24:57.777643Z",
     "iopub.status.idle": "2022-02-25T19:24:58.094804Z",
     "shell.execute_reply": "2022-02-25T19:24:58.095282Z",
     "shell.execute_reply.started": "2022-02-25T19:16:02.578314Z"
    },
    "papermill": {
     "duration": 0.404691,
     "end_time": "2022-02-25T19:24:58.095455",
     "exception": false,
     "start_time": "2022-02-25T19:24:57.690764",
     "status": "completed"
    },
    "tags": []
   },
   "outputs": [
    {
     "data": {
      "image/png": "[encoded data removed]",
      "text/plain": [
       "<Figure size 500x500 with 1 Axes>"
      ]
     },
     "metadata": {},
     "output_type": "display_data"
    }
   ],
   "source": [
    "pred_test = np.mean(pred_tests, 0)\n",
    "\n",
    "_ = sns.displot(pred_test)"
   ]
  },
  {
   "cell_type": "markdown",
   "id": "19d3cc9a",
   "metadata": {
    "papermill": {
     "duration": 0.082662,
     "end_time": "2022-02-25T19:24:58.260436",
     "exception": false,
     "start_time": "2022-02-25T19:24:58.177774",
     "status": "completed"
    },
    "tags": []
   },
   "source": [
    "# Overriding predictions\n",
    "- Without overridees, the 4 features model achieved 22nd, which is good but enough !"
   ]
  },
  {
   "cell_type": "markdown",
   "id": "f219b27d",
   "metadata": {
    "papermill": {
     "duration": 0.084328,
     "end_time": "2022-02-25T19:24:58.429775",
     "exception": false,
     "start_time": "2022-02-25T19:24:58.345447",
     "status": "completed"
    },
    "tags": []
   },
   "source": [
    "## Prepare"
   ]
  },
  {
   "cell_type": "code",
   "execution_count": 128,
   "id": "0d480a63",
   "metadata": {
    "execution": {
     "iopub.execute_input": "2022-02-25T19:24:58.603813Z",
     "iopub.status.busy": "2022-02-25T19:24:58.602828Z",
     "iopub.status.idle": "2022-02-25T19:24:58.609933Z",
     "shell.execute_reply": "2022-02-25T19:24:58.610492Z",
     "shell.execute_reply.started": "2022-02-25T19:16:02.968010Z"
    },
    "papermill": {
     "duration": 0.09541,
     "end_time": "2022-02-25T19:24:58.610656",
     "exception": false,
     "start_time": "2022-02-25T19:24:58.515246",
     "status": "completed"
    },
    "tags": []
   },
   "outputs": [],
   "source": [
    "sub = df_test[['ID', 'Season', 'Pred', 'TeamIdA', 'TeamIdB', 'SeedA', 'SeedB']].copy()\n",
    "sub['Pred'] = pred_test"
   ]
  },
  {
   "cell_type": "code",
   "execution_count": 129,
   "id": "bc8ef049",
   "metadata": {
    "execution": {
     "iopub.execute_input": "2022-02-25T19:24:58.783302Z",
     "iopub.status.busy": "2022-02-25T19:24:58.782396Z",
     "iopub.status.idle": "2022-02-25T19:24:58.809494Z",
     "shell.execute_reply": "2022-02-25T19:24:58.810023Z",
     "shell.execute_reply.started": "2022-02-25T19:16:02.979186Z"
    },
    "papermill": {
     "duration": 0.114519,
     "end_time": "2022-02-25T19:24:58.810214",
     "exception": false,
     "start_time": "2022-02-25T19:24:58.695695",
     "status": "completed"
    },
    "tags": []
   },
   "outputs": [],
   "source": [
    "df_teams = pd.read_csv(DATA_PATH + \"MTeams.csv\")\n",
    "sub = sub.merge(df_teams, left_on=\"TeamIdA\", right_on=\"TeamID\").drop('TeamID', axis=1).rename(columns={\"TeamName\": \"TeamA\"})\n",
    "sub = sub.merge(df_teams, left_on=\"TeamIdB\", right_on=\"TeamID\").drop('TeamID', axis=1).rename(columns={\"TeamName\": \"TeamB\"})"
   ]
  },
  {
   "cell_type": "code",
   "execution_count": 130,
   "id": "96d7e73c",
   "metadata": {
    "execution": {
     "iopub.execute_input": "2022-02-25T19:24:58.981496Z",
     "iopub.status.busy": "2022-02-25T19:24:58.980544Z",
     "iopub.status.idle": "2022-02-25T19:24:59.009735Z",
     "shell.execute_reply": "2022-02-25T19:24:59.010232Z",
     "shell.execute_reply.started": "2022-02-25T19:16:03.018570Z"
    },
    "papermill": {
     "duration": 0.116915,
     "end_time": "2022-02-25T19:24:59.010426",
     "exception": false,
     "start_time": "2022-02-25T19:24:58.893511",
     "status": "completed"
    },
    "tags": []
   },
   "outputs": [],
   "source": [
    "df_seeds['Seed'] = df_seeds['Seed'].apply(lambda x:x[0])\n",
    "\n",
    "sub = sub.merge(df_seeds, left_on=[\"TeamIdA\", \"Season\"], right_on=[\"TeamID\", \"Season\"]).drop('TeamID', axis=1).rename(columns={\"Seed\": \"RegionA\"})\n",
    "sub = sub.merge(df_seeds, left_on=[\"TeamIdB\", \"Season\"], right_on=[\"TeamID\", \"Season\"]).drop('TeamID', axis=1).rename(columns={\"Seed\": \"RegionB\"})"
   ]
  },
  {
   "cell_type": "markdown",
   "id": "43f42385",
   "metadata": {
    "papermill": {
     "duration": 0.084127,
     "end_time": "2022-02-25T19:24:59.179519",
     "exception": false,
     "start_time": "2022-02-25T19:24:59.095392",
     "status": "completed"
    },
    "tags": []
   },
   "source": [
    "## Strategies\n",
    "\n",
    "#### Risky strategy\n",
    "\n",
    "- Picked 11 teams that would win their first match\n",
    "- Stanford and Baylor beat every team seeded 3 or higher\n",
    "- Connecticut and South Carolina  beat every team seeded 4 or higher\n",
    "- Maryland wins beats every team seeded 7 or higher\n",
    "- use p=0.99999 for overriding\n",
    "\n",
    "#### Safe strategy\n",
    "\n",
    "- Picked 7 teams that would win their first match\n",
    "- Stanford, Connecticut and South Carolina beat every team seeded 6 or higher\n",
    "- Baylor wins beats every team seeded 7 or higher\n",
    "- use p=0.99 for overriding\n",
    "\n",
    "*This parts needs to be updated using this year's best teams. I'm waiting to get analysts' insights for this.*\n",
    "Also, this was for the women teams so don't be this aggressive with the men competition as there usually are more upsets."
   ]
  },
  {
   "cell_type": "code",
   "execution_count": 131,
   "id": "151c75a4",
   "metadata": {
    "execution": {
     "iopub.execute_input": "2022-02-25T19:24:59.354036Z",
     "iopub.status.busy": "2022-02-25T19:24:59.353235Z",
     "iopub.status.idle": "2022-02-25T19:24:59.355889Z",
     "shell.execute_reply": "2022-02-25T19:24:59.355399Z",
     "shell.execute_reply.started": "2022-02-25T19:16:03.056807Z"
    },
    "papermill": {
     "duration": 0.092131,
     "end_time": "2022-02-25T19:24:59.356059",
     "exception": false,
     "start_time": "2022-02-25T19:24:59.263928",
     "status": "completed"
    },
    "tags": []
   },
   "outputs": [],
   "source": [
    "best_teams = ['Stanford', 'South Carolina', 'Connecticut', 'Baylor', 'Maryland']  # considered for buff\n",
    "\n",
    "strong_teams_safe = best_teams + ['NC State', 'Louisville']  # win 1st round\n",
    "strong_teams_risky = strong_teams_safe + ['Texas A&M', 'Arizona', 'Georgia', 'UCLA']  # win 1st round"
   ]
  },
  {
   "cell_type": "code",
   "execution_count": 132,
   "id": "e3779628",
   "metadata": {
    "execution": {
     "iopub.execute_input": "2022-02-25T19:24:59.526748Z",
     "iopub.status.busy": "2022-02-25T19:24:59.526109Z",
     "iopub.status.idle": "2022-02-25T19:24:59.538152Z",
     "shell.execute_reply": "2022-02-25T19:24:59.538708Z",
     "shell.execute_reply.started": "2022-02-25T19:16:03.064856Z"
    },
    "papermill": {
     "duration": 0.100622,
     "end_time": "2022-02-25T19:24:59.538878",
     "exception": false,
     "start_time": "2022-02-25T19:24:59.438256",
     "status": "completed"
    },
    "tags": []
   },
   "outputs": [],
   "source": [
    "def overwrite_pred_risky(sub, eps=1e-5):\n",
    "\n",
    "    new_sub = []\n",
    "    \n",
    "    for i, row in sub.iterrows():\n",
    "        \n",
    "        # Buff Stanford\n",
    "        if row['TeamA'] == 'Stanford' and row['SeedB'] >= 3:\n",
    "            row['Pred'] = 1 - eps\n",
    "        elif row['TeamB'] == 'Stanford' and row['SeedA'] >= 3:\n",
    "            row['Pred'] = eps\n",
    "    \n",
    "        # Buff South Carolina\n",
    "        if row['TeamA'] == 'South Carolina' and row['SeedB'] >= 4:\n",
    "            row['Pred'] = 1 - eps\n",
    "        elif row['TeamB'] == 'South Carolina' and row['SeedA'] >= 4:\n",
    "            row['Pred'] = eps\n",
    "            \n",
    "        # Buff Connecticut\n",
    "        if row['TeamA'] == 'Connecticut' and row['SeedB'] >= 4:\n",
    "            row['Pred'] = 1 - eps\n",
    "        elif row['TeamB'] == 'Connecticut' and row['SeedA'] >= 4:\n",
    "            row['Pred'] = eps\n",
    "            \n",
    "        # Buff Baylor\n",
    "        if row['TeamA'] == 'Baylor' and row['SeedB'] >= 3:\n",
    "            row['Pred'] = 1 - eps\n",
    "        elif row['TeamB'] == 'Baylor' and row['SeedA'] >= 3:\n",
    "            row['Pred'] = eps\n",
    "            \n",
    "        # Buff Maryland\n",
    "        if row['TeamA'] == 'Maryland' and row['SeedB'] >= 7:\n",
    "            row['Pred'] = 1 - eps\n",
    "        elif row['TeamB'] == 'Maryland' and row['SeedA'] >= 7:\n",
    "            row['Pred'] = eps\n",
    "        \n",
    "        # Strong teams (risky) win their first round\n",
    "        if row['TeamA'] in strong_teams_risky and row['SeedB'] >= 13:\n",
    "            row['Pred'] = 1 - eps\n",
    "        elif row['TeamB'] in strong_teams_risky and row['SeedA'] >= 13:\n",
    "            row['Pred'] = eps\n",
    "\n",
    "        new_sub.append(row)\n",
    "        \n",
    "    return pd.DataFrame(np.array(new_sub), columns=sub.columns)"
   ]
  },
  {
   "cell_type": "code",
   "execution_count": 133,
   "id": "78e64f89",
   "metadata": {
    "execution": {
     "iopub.execute_input": "2022-02-25T19:24:59.709338Z",
     "iopub.status.busy": "2022-02-25T19:24:59.708615Z",
     "iopub.status.idle": "2022-02-25T19:24:59.719054Z",
     "shell.execute_reply": "2022-02-25T19:24:59.719538Z",
     "shell.execute_reply.started": "2022-02-25T19:16:03.084629Z"
    },
    "papermill": {
     "duration": 0.096192,
     "end_time": "2022-02-25T19:24:59.719708",
     "exception": false,
     "start_time": "2022-02-25T19:24:59.623516",
     "status": "completed"
    },
    "tags": []
   },
   "outputs": [],
   "source": [
    "def overwrite_pred_safe(sub, eps=1e-2):    \n",
    "    new_sub = []\n",
    "    \n",
    "    for i, row in sub.iterrows():\n",
    "        row['Pred'] = np.clip(row['Pred'], 0.1, 0.9) # clip for safety\n",
    "        \n",
    "        # Buff Stanford\n",
    "        if row['TeamA'] == 'Stanford' and row['SeedB'] >= 6:\n",
    "            row['Pred'] = 1 - eps\n",
    "        elif row['TeamB'] == 'Stanford' and row['SeedA'] >= 6:\n",
    "            row['Pred'] = eps\n",
    "    \n",
    "        # Buff South Carolina\n",
    "        if row['TeamA'] == 'South Carolina' and row['SeedB'] >= 6:\n",
    "            row['Pred'] = 1 - eps\n",
    "        elif row['TeamB'] == 'South Carolina' and row['SeedA'] >= 6:\n",
    "            row['Pred'] = eps\n",
    "            \n",
    "        # Buff Connecticut\n",
    "        if row['TeamA'] == 'Connecticut' and row['SeedB'] >= 6:\n",
    "            row['Pred'] = 1 - eps\n",
    "        elif row['TeamB'] == 'Connecticut' and row['SeedA'] >= 6:\n",
    "            row['Pred'] = eps\n",
    "\n",
    "        # Buff Baylor\n",
    "        if row['TeamA'] == 'Baylor' and row['SeedB'] >= 7:\n",
    "            row['Pred'] = 1 - eps\n",
    "        elif row['TeamB'] == 'Baylor' and row['SeedA'] >= 7:\n",
    "            row['Pred'] = eps\n",
    "        \n",
    "        # Strong teams (safe) win their first rounds\n",
    "        if row['TeamA'] in strong_teams_safe and row['SeedB'] >= 13:\n",
    "            row['Pred'] = 1 - eps\n",
    "        elif row['TeamB'] in strong_teams_safe and row['SeedA'] >= 13:\n",
    "            row['Pred'] = eps\n",
    "\n",
    "        new_sub.append(row)\n",
    "        \n",
    "    return pd.DataFrame(np.array(new_sub), columns=sub.columns)"
   ]
  },
  {
   "cell_type": "code",
   "execution_count": 134,
   "id": "d2937e63",
   "metadata": {
    "execution": {
     "iopub.execute_input": "2022-02-25T19:24:59.890985Z",
     "iopub.status.busy": "2022-02-25T19:24:59.890385Z",
     "iopub.status.idle": "2022-02-25T19:24:59.893114Z",
     "shell.execute_reply": "2022-02-25T19:24:59.893599Z",
     "shell.execute_reply.started": "2022-02-25T19:16:03.107715Z"
    },
    "papermill": {
     "duration": 0.090028,
     "end_time": "2022-02-25T19:24:59.893750",
     "exception": false,
     "start_time": "2022-02-25T19:24:59.803722",
     "status": "completed"
    },
    "tags": []
   },
   "outputs": [],
   "source": [
    "# sub_pp = overwrite_pred_safe(sub)\n",
    "# sub_pp = overwrite_pred_risky(sub)\n",
    "\n",
    "sub_pp = sub"
   ]
  },
  {
   "cell_type": "markdown",
   "id": "707dc23f",
   "metadata": {
    "papermill": {
     "duration": 0.082726,
     "end_time": "2022-02-25T19:25:00.060520",
     "exception": false,
     "start_time": "2022-02-25T19:24:59.977794",
     "status": "completed"
    },
    "tags": []
   },
   "source": [
    "## Submission"
   ]
  },
  {
   "cell_type": "code",
   "execution_count": 135,
   "id": "76f38b5b",
   "metadata": {
    "execution": {
     "iopub.execute_input": "2022-02-25T19:25:00.234142Z",
     "iopub.status.busy": "2022-02-25T19:25:00.233505Z",
     "iopub.status.idle": "2022-02-25T19:25:00.284810Z",
     "shell.execute_reply": "2022-02-25T19:25:00.284212Z",
     "shell.execute_reply.started": "2022-02-25T19:16:03.128249Z"
    },
    "papermill": {
     "duration": 0.138639,
     "end_time": "2022-02-25T19:25:00.284971",
     "exception": false,
     "start_time": "2022-02-25T19:25:00.146332",
     "status": "completed"
    },
    "tags": []
   },
   "outputs": [],
   "source": [
    "final_sub = sub_pp[['ID', 'Pred']].copy()\n",
    "final_sub.to_csv('submission.csv', index=False)"
   ]
  },
  {
   "cell_type": "code",
   "execution_count": 136,
   "id": "54e659fd",
   "metadata": {
    "execution": {
     "iopub.execute_input": "2022-02-25T19:25:00.459323Z",
     "iopub.status.busy": "2022-02-25T19:25:00.458613Z",
     "iopub.status.idle": "2022-02-25T19:25:00.466470Z",
     "shell.execute_reply": "2022-02-25T19:25:00.466962Z",
     "shell.execute_reply.started": "2022-02-25T19:16:03.192528Z"
    },
    "papermill": {
     "duration": 0.09609,
     "end_time": "2022-02-25T19:25:00.467135",
     "exception": false,
     "start_time": "2022-02-25T19:25:00.371045",
     "status": "completed"
    },
    "tags": []
   },
   "outputs": [
    {
     "data": {
      "text/html": [
       "<div>\n",
       "<style scoped>\n",
       "    .dataframe tbody tr th:only-of-type {\n",
       "        vertical-align: middle;\n",
       "    }\n",
       "\n",
       "    .dataframe tbody tr th {\n",
       "        vertical-align: top;\n",
       "    }\n",
       "\n",
       "    .dataframe thead th {\n",
       "        text-align: right;\n",
       "    }\n",
       "</style>\n",
       "<table border=\"1\" class=\"dataframe\">\n",
       "  <thead>\n",
       "    <tr style=\"text-align: right;\">\n",
       "      <th></th>\n",
       "      <th>ID</th>\n",
       "      <th>Pred</th>\n",
       "    </tr>\n",
       "  </thead>\n",
       "  <tbody>\n",
       "    <tr>\n",
       "      <th>0</th>\n",
       "      <td>2016_1112_1114</td>\n",
       "      <td>0.829220</td>\n",
       "    </tr>\n",
       "    <tr>\n",
       "      <th>1</th>\n",
       "      <td>2016_1112_1122</td>\n",
       "      <td>0.973573</td>\n",
       "    </tr>\n",
       "    <tr>\n",
       "      <th>2</th>\n",
       "      <td>2016_1112_1124</td>\n",
       "      <td>0.692010</td>\n",
       "    </tr>\n",
       "    <tr>\n",
       "      <th>3</th>\n",
       "      <td>2016_1112_1138</td>\n",
       "      <td>0.900979</td>\n",
       "    </tr>\n",
       "    <tr>\n",
       "      <th>4</th>\n",
       "      <td>2016_1112_1139</td>\n",
       "      <td>0.706908</td>\n",
       "    </tr>\n",
       "  </tbody>\n",
       "</table>\n",
       "</div>"
      ],
      "text/plain": [
       "               ID      Pred\n",
       "0  2016_1112_1114  0.829220\n",
       "1  2016_1112_1122  0.973573\n",
       "2  2016_1112_1124  0.692010\n",
       "3  2016_1112_1138  0.900979\n",
       "4  2016_1112_1139  0.706908"
      ]
     },
     "execution_count": 136,
     "metadata": {},
     "output_type": "execute_result"
    }
   ],
   "source": [
    "final_sub.head()"
   ]
  }
 ],
 "metadata": {
  "kernelspec": {
   "display_name": "Python 3",
   "language": "python",
   "name": "python3"
  },
  "language_info": {
   "codemirror_mode": {
    "name": "ipython",
    "version": 3
   },
   "file_extension": ".py",
   "mimetype": "text/x-python",
   "name": "python",
   "nbconvert_exporter": "python",
   "pygments_lexer": "ipython3",
   "version": "3.12.1"
  },
  "papermill": {
   "default_parameters": {},
   "duration": 27.81828,
   "end_time": "2022-02-25T19:25:01.262531",
   "environment_variables": {},
   "exception": null,
   "input_path": "__notebook__.ipynb",
   "output_path": "__notebook__.ipynb",
   "parameters": {},
   "start_time": "2022-02-25T19:24:33.444251",
   "version": "2.3.3"
  }
 },
 "nbformat": 4,
 "nbformat_minor": 5
}
